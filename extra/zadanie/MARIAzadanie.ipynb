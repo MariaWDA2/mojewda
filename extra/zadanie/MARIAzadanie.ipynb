{
 "cells": [
  {
   "cell_type": "markdown",
   "metadata": {},
   "source": [
    "### Zadanie\n",
    "\n",
    "1. Načítajte súbor `Accidents.csv`, rozdeľte ho na tri tabuľky podľa hodnôt atribútu `Accident_Severity` (do prvej tabuľky vyberte iba hodnoty 1 - `Fatal`, do druhej 2 - `Serious` a do tretej 3 - `Slight`).\n"
   ]
  },
  {
   "cell_type": "code",
   "execution_count": 78,
   "metadata": {},
   "outputs": [],
   "source": [
    "import pandas as pd\n",
    "import numpy as np\n",
    "import matplotlib.pyplot as plt\n",
    "import seaborn as sns\n",
    "\n",
    "%matplotlib inline\n",
    "sns.set()"
   ]
  },
  {
   "cell_type": "code",
   "execution_count": 79,
   "metadata": {},
   "outputs": [
    {
     "data": {
      "text/html": [
       "<div>\n",
       "<style scoped>\n",
       "    .dataframe tbody tr th:only-of-type {\n",
       "        vertical-align: middle;\n",
       "    }\n",
       "\n",
       "    .dataframe tbody tr th {\n",
       "        vertical-align: top;\n",
       "    }\n",
       "\n",
       "    .dataframe thead th {\n",
       "        text-align: right;\n",
       "    }\n",
       "</style>\n",
       "<table border=\"1\" class=\"dataframe\">\n",
       "  <thead>\n",
       "    <tr style=\"text-align: right;\">\n",
       "      <th></th>\n",
       "      <th>Accident_Index</th>\n",
       "      <th>Location_Easting_OSGR</th>\n",
       "      <th>Location_Northing_OSGR</th>\n",
       "      <th>Longitude</th>\n",
       "      <th>Latitude</th>\n",
       "      <th>Police_Force</th>\n",
       "      <th>Accident_Severity</th>\n",
       "      <th>Number_of_Vehicles</th>\n",
       "      <th>Number_of_Casualties</th>\n",
       "      <th>Date</th>\n",
       "      <th>...</th>\n",
       "      <th>Pedestrian_Crossing-Human_Control</th>\n",
       "      <th>Pedestrian_Crossing-Physical_Facilities</th>\n",
       "      <th>Light_Conditions</th>\n",
       "      <th>Weather_Conditions</th>\n",
       "      <th>Road_Surface_Conditions</th>\n",
       "      <th>Special_Conditions_at_Site</th>\n",
       "      <th>Carriageway_Hazards</th>\n",
       "      <th>Urban_or_Rural_Area</th>\n",
       "      <th>Did_Police_Officer_Attend_Scene_of_Accident</th>\n",
       "      <th>LSOA_of_Accident_Location</th>\n",
       "    </tr>\n",
       "  </thead>\n",
       "  <tbody>\n",
       "    <tr>\n",
       "      <td>0</td>\n",
       "      <td>200501BS00001</td>\n",
       "      <td>525680.0</td>\n",
       "      <td>178240.0</td>\n",
       "      <td>-0.191170</td>\n",
       "      <td>51.489096</td>\n",
       "      <td>1</td>\n",
       "      <td>2</td>\n",
       "      <td>1</td>\n",
       "      <td>1</td>\n",
       "      <td>04/01/2005</td>\n",
       "      <td>...</td>\n",
       "      <td>0</td>\n",
       "      <td>1</td>\n",
       "      <td>1</td>\n",
       "      <td>2</td>\n",
       "      <td>2</td>\n",
       "      <td>0</td>\n",
       "      <td>0</td>\n",
       "      <td>1</td>\n",
       "      <td>1</td>\n",
       "      <td>E01002849</td>\n",
       "    </tr>\n",
       "    <tr>\n",
       "      <td>1</td>\n",
       "      <td>200501BS00002</td>\n",
       "      <td>524170.0</td>\n",
       "      <td>181650.0</td>\n",
       "      <td>-0.211708</td>\n",
       "      <td>51.520075</td>\n",
       "      <td>1</td>\n",
       "      <td>3</td>\n",
       "      <td>1</td>\n",
       "      <td>1</td>\n",
       "      <td>05/01/2005</td>\n",
       "      <td>...</td>\n",
       "      <td>0</td>\n",
       "      <td>5</td>\n",
       "      <td>4</td>\n",
       "      <td>1</td>\n",
       "      <td>1</td>\n",
       "      <td>0</td>\n",
       "      <td>0</td>\n",
       "      <td>1</td>\n",
       "      <td>1</td>\n",
       "      <td>E01002909</td>\n",
       "    </tr>\n",
       "  </tbody>\n",
       "</table>\n",
       "<p>2 rows × 32 columns</p>\n",
       "</div>"
      ],
      "text/plain": [
       "  Accident_Index  Location_Easting_OSGR  Location_Northing_OSGR  Longitude  \\\n",
       "0  200501BS00001               525680.0                178240.0  -0.191170   \n",
       "1  200501BS00002               524170.0                181650.0  -0.211708   \n",
       "\n",
       "    Latitude  Police_Force  Accident_Severity  Number_of_Vehicles  \\\n",
       "0  51.489096             1                  2                   1   \n",
       "1  51.520075             1                  3                   1   \n",
       "\n",
       "   Number_of_Casualties        Date  ...  Pedestrian_Crossing-Human_Control  \\\n",
       "0                     1  04/01/2005  ...                                  0   \n",
       "1                     1  05/01/2005  ...                                  0   \n",
       "\n",
       "  Pedestrian_Crossing-Physical_Facilities  Light_Conditions  \\\n",
       "0                                       1                 1   \n",
       "1                                       5                 4   \n",
       "\n",
       "  Weather_Conditions  Road_Surface_Conditions  Special_Conditions_at_Site  \\\n",
       "0                  2                        2                           0   \n",
       "1                  1                        1                           0   \n",
       "\n",
       "   Carriageway_Hazards  Urban_or_Rural_Area  \\\n",
       "0                    0                    1   \n",
       "1                    0                    1   \n",
       "\n",
       "   Did_Police_Officer_Attend_Scene_of_Accident  LSOA_of_Accident_Location  \n",
       "0                                            1                  E01002849  \n",
       "1                                            1                  E01002909  \n",
       "\n",
       "[2 rows x 32 columns]"
      ]
     },
     "execution_count": 79,
     "metadata": {},
     "output_type": "execute_result"
    }
   ],
   "source": [
    "data_accidents = pd.read_csv(\"../zadanie/data/Accidents.csv\")\n",
    "data_accidents.head(2)"
   ]
  },
  {
   "cell_type": "code",
   "execution_count": 80,
   "metadata": {},
   "outputs": [
    {
     "data": {
      "text/plain": [
       "3    170793\n",
       "2     25029\n",
       "1      2913\n",
       "Name: Accident_Severity, dtype: int64"
      ]
     },
     "execution_count": 80,
     "metadata": {},
     "output_type": "execute_result"
    }
   ],
   "source": [
    "data_accidents[\"Accident_Severity\"].value_counts()   # vypisem pocet riadkov pre danu urcenu hodnotu atributu\n",
    "                                                     # pocet riadkov v povodnej databaze je 198735"
   ]
  },
  {
   "cell_type": "code",
   "execution_count": 81,
   "metadata": {},
   "outputs": [
    {
     "name": "stdout",
     "output_type": "stream",
     "text": [
      "2913\n"
     ]
    },
    {
     "data": {
      "text/html": [
       "<div>\n",
       "<style scoped>\n",
       "    .dataframe tbody tr th:only-of-type {\n",
       "        vertical-align: middle;\n",
       "    }\n",
       "\n",
       "    .dataframe tbody tr th {\n",
       "        vertical-align: top;\n",
       "    }\n",
       "\n",
       "    .dataframe thead th {\n",
       "        text-align: right;\n",
       "    }\n",
       "</style>\n",
       "<table border=\"1\" class=\"dataframe\">\n",
       "  <thead>\n",
       "    <tr style=\"text-align: right;\">\n",
       "      <th></th>\n",
       "      <th>Accident_Index</th>\n",
       "      <th>Location_Easting_OSGR</th>\n",
       "      <th>Location_Northing_OSGR</th>\n",
       "      <th>Longitude</th>\n",
       "      <th>Latitude</th>\n",
       "      <th>Police_Force</th>\n",
       "      <th>Accident_Severity</th>\n",
       "      <th>Number_of_Vehicles</th>\n",
       "      <th>Number_of_Casualties</th>\n",
       "      <th>Date</th>\n",
       "      <th>...</th>\n",
       "      <th>Pedestrian_Crossing-Human_Control</th>\n",
       "      <th>Pedestrian_Crossing-Physical_Facilities</th>\n",
       "      <th>Light_Conditions</th>\n",
       "      <th>Weather_Conditions</th>\n",
       "      <th>Road_Surface_Conditions</th>\n",
       "      <th>Special_Conditions_at_Site</th>\n",
       "      <th>Carriageway_Hazards</th>\n",
       "      <th>Urban_or_Rural_Area</th>\n",
       "      <th>Did_Police_Officer_Attend_Scene_of_Accident</th>\n",
       "      <th>LSOA_of_Accident_Location</th>\n",
       "    </tr>\n",
       "  </thead>\n",
       "  <tbody>\n",
       "    <tr>\n",
       "      <td>824</td>\n",
       "      <td>200501CP00085</td>\n",
       "      <td>532120.0</td>\n",
       "      <td>181370.0</td>\n",
       "      <td>-0.097293</td>\n",
       "      <td>51.515757</td>\n",
       "      <td>48</td>\n",
       "      <td>1</td>\n",
       "      <td>2</td>\n",
       "      <td>2</td>\n",
       "      <td>18/05/2005</td>\n",
       "      <td>...</td>\n",
       "      <td>0</td>\n",
       "      <td>0</td>\n",
       "      <td>1</td>\n",
       "      <td>1</td>\n",
       "      <td>1</td>\n",
       "      <td>0</td>\n",
       "      <td>0</td>\n",
       "      <td>1</td>\n",
       "      <td>1</td>\n",
       "      <td>E01000001</td>\n",
       "    </tr>\n",
       "    <tr>\n",
       "      <td>16252</td>\n",
       "      <td>200501RY10515</td>\n",
       "      <td>545840.0</td>\n",
       "      <td>175950.0</td>\n",
       "      <td>0.098065</td>\n",
       "      <td>51.463682</td>\n",
       "      <td>1</td>\n",
       "      <td>1</td>\n",
       "      <td>1</td>\n",
       "      <td>1</td>\n",
       "      <td>09/11/2005</td>\n",
       "      <td>...</td>\n",
       "      <td>0</td>\n",
       "      <td>5</td>\n",
       "      <td>1</td>\n",
       "      <td>1</td>\n",
       "      <td>1</td>\n",
       "      <td>0</td>\n",
       "      <td>0</td>\n",
       "      <td>1</td>\n",
       "      <td>1</td>\n",
       "      <td>E01000414</td>\n",
       "    </tr>\n",
       "  </tbody>\n",
       "</table>\n",
       "<p>2 rows × 32 columns</p>\n",
       "</div>"
      ],
      "text/plain": [
       "      Accident_Index  Location_Easting_OSGR  Location_Northing_OSGR  \\\n",
       "824    200501CP00085               532120.0                181370.0   \n",
       "16252  200501RY10515               545840.0                175950.0   \n",
       "\n",
       "       Longitude   Latitude  Police_Force  Accident_Severity  \\\n",
       "824    -0.097293  51.515757            48                  1   \n",
       "16252   0.098065  51.463682             1                  1   \n",
       "\n",
       "       Number_of_Vehicles  Number_of_Casualties        Date  ...  \\\n",
       "824                     2                     2  18/05/2005  ...   \n",
       "16252                   1                     1  09/11/2005  ...   \n",
       "\n",
       "       Pedestrian_Crossing-Human_Control  \\\n",
       "824                                    0   \n",
       "16252                                  0   \n",
       "\n",
       "      Pedestrian_Crossing-Physical_Facilities  Light_Conditions  \\\n",
       "824                                         0                 1   \n",
       "16252                                       5                 1   \n",
       "\n",
       "      Weather_Conditions  Road_Surface_Conditions  Special_Conditions_at_Site  \\\n",
       "824                    1                        1                           0   \n",
       "16252                  1                        1                           0   \n",
       "\n",
       "       Carriageway_Hazards  Urban_or_Rural_Area  \\\n",
       "824                      0                    1   \n",
       "16252                    0                    1   \n",
       "\n",
       "       Did_Police_Officer_Attend_Scene_of_Accident  LSOA_of_Accident_Location  \n",
       "824                                              1                  E01000001  \n",
       "16252                                            1                  E01000414  \n",
       "\n",
       "[2 rows x 32 columns]"
      ]
     },
     "execution_count": 81,
     "metadata": {},
     "output_type": "execute_result"
    }
   ],
   "source": [
    "accidents_fatal = data_accidents.query(\"Accident_Severity == '1'\")   # spocitam riadky, pre ktore ma atribut Accident_Severity hodnotu 1 - fatal\n",
    "print(accidents_fatal.shape[0])\n",
    "accidents_fatal.head(2)"
   ]
  },
  {
   "cell_type": "code",
   "execution_count": 82,
   "metadata": {},
   "outputs": [
    {
     "name": "stdout",
     "output_type": "stream",
     "text": [
      "25029\n"
     ]
    },
    {
     "data": {
      "text/html": [
       "<div>\n",
       "<style scoped>\n",
       "    .dataframe tbody tr th:only-of-type {\n",
       "        vertical-align: middle;\n",
       "    }\n",
       "\n",
       "    .dataframe tbody tr th {\n",
       "        vertical-align: top;\n",
       "    }\n",
       "\n",
       "    .dataframe thead th {\n",
       "        text-align: right;\n",
       "    }\n",
       "</style>\n",
       "<table border=\"1\" class=\"dataframe\">\n",
       "  <thead>\n",
       "    <tr style=\"text-align: right;\">\n",
       "      <th></th>\n",
       "      <th>Accident_Index</th>\n",
       "      <th>Location_Easting_OSGR</th>\n",
       "      <th>Location_Northing_OSGR</th>\n",
       "      <th>Longitude</th>\n",
       "      <th>Latitude</th>\n",
       "      <th>Police_Force</th>\n",
       "      <th>Accident_Severity</th>\n",
       "      <th>Number_of_Vehicles</th>\n",
       "      <th>Number_of_Casualties</th>\n",
       "      <th>Date</th>\n",
       "      <th>...</th>\n",
       "      <th>Pedestrian_Crossing-Human_Control</th>\n",
       "      <th>Pedestrian_Crossing-Physical_Facilities</th>\n",
       "      <th>Light_Conditions</th>\n",
       "      <th>Weather_Conditions</th>\n",
       "      <th>Road_Surface_Conditions</th>\n",
       "      <th>Special_Conditions_at_Site</th>\n",
       "      <th>Carriageway_Hazards</th>\n",
       "      <th>Urban_or_Rural_Area</th>\n",
       "      <th>Did_Police_Officer_Attend_Scene_of_Accident</th>\n",
       "      <th>LSOA_of_Accident_Location</th>\n",
       "    </tr>\n",
       "  </thead>\n",
       "  <tbody>\n",
       "    <tr>\n",
       "      <td>0</td>\n",
       "      <td>200501BS00001</td>\n",
       "      <td>525680.0</td>\n",
       "      <td>178240.0</td>\n",
       "      <td>-0.191170</td>\n",
       "      <td>51.489096</td>\n",
       "      <td>1</td>\n",
       "      <td>2</td>\n",
       "      <td>1</td>\n",
       "      <td>1</td>\n",
       "      <td>04/01/2005</td>\n",
       "      <td>...</td>\n",
       "      <td>0</td>\n",
       "      <td>1</td>\n",
       "      <td>1</td>\n",
       "      <td>2</td>\n",
       "      <td>2</td>\n",
       "      <td>0</td>\n",
       "      <td>0</td>\n",
       "      <td>1</td>\n",
       "      <td>1</td>\n",
       "      <td>E01002849</td>\n",
       "    </tr>\n",
       "    <tr>\n",
       "      <td>16</td>\n",
       "      <td>200501BS00019</td>\n",
       "      <td>524680.0</td>\n",
       "      <td>179450.0</td>\n",
       "      <td>-0.205139</td>\n",
       "      <td>51.500191</td>\n",
       "      <td>1</td>\n",
       "      <td>2</td>\n",
       "      <td>2</td>\n",
       "      <td>1</td>\n",
       "      <td>20/01/2005</td>\n",
       "      <td>...</td>\n",
       "      <td>0</td>\n",
       "      <td>0</td>\n",
       "      <td>4</td>\n",
       "      <td>1</td>\n",
       "      <td>1</td>\n",
       "      <td>0</td>\n",
       "      <td>0</td>\n",
       "      <td>1</td>\n",
       "      <td>1</td>\n",
       "      <td>E01002864</td>\n",
       "    </tr>\n",
       "  </tbody>\n",
       "</table>\n",
       "<p>2 rows × 32 columns</p>\n",
       "</div>"
      ],
      "text/plain": [
       "   Accident_Index  Location_Easting_OSGR  Location_Northing_OSGR  Longitude  \\\n",
       "0   200501BS00001               525680.0                178240.0  -0.191170   \n",
       "16  200501BS00019               524680.0                179450.0  -0.205139   \n",
       "\n",
       "     Latitude  Police_Force  Accident_Severity  Number_of_Vehicles  \\\n",
       "0   51.489096             1                  2                   1   \n",
       "16  51.500191             1                  2                   2   \n",
       "\n",
       "    Number_of_Casualties        Date  ...  Pedestrian_Crossing-Human_Control  \\\n",
       "0                      1  04/01/2005  ...                                  0   \n",
       "16                     1  20/01/2005  ...                                  0   \n",
       "\n",
       "   Pedestrian_Crossing-Physical_Facilities  Light_Conditions  \\\n",
       "0                                        1                 1   \n",
       "16                                       0                 4   \n",
       "\n",
       "   Weather_Conditions  Road_Surface_Conditions  Special_Conditions_at_Site  \\\n",
       "0                   2                        2                           0   \n",
       "16                  1                        1                           0   \n",
       "\n",
       "    Carriageway_Hazards  Urban_or_Rural_Area  \\\n",
       "0                     0                    1   \n",
       "16                    0                    1   \n",
       "\n",
       "    Did_Police_Officer_Attend_Scene_of_Accident  LSOA_of_Accident_Location  \n",
       "0                                             1                  E01002849  \n",
       "16                                            1                  E01002864  \n",
       "\n",
       "[2 rows x 32 columns]"
      ]
     },
     "execution_count": 82,
     "metadata": {},
     "output_type": "execute_result"
    }
   ],
   "source": [
    "accidents_serious = data_accidents.query(\"Accident_Severity == '2'\")   # spocita riadky, pre ktore ma atribut Accident_Severity hodnotu 2 - serious\n",
    "print(accidents_serious.shape[0])\n",
    "accidents_serious.head(2)"
   ]
  },
  {
   "cell_type": "code",
   "execution_count": 83,
   "metadata": {},
   "outputs": [
    {
     "name": "stdout",
     "output_type": "stream",
     "text": [
      "170793\n"
     ]
    },
    {
     "data": {
      "text/html": [
       "<div>\n",
       "<style scoped>\n",
       "    .dataframe tbody tr th:only-of-type {\n",
       "        vertical-align: middle;\n",
       "    }\n",
       "\n",
       "    .dataframe tbody tr th {\n",
       "        vertical-align: top;\n",
       "    }\n",
       "\n",
       "    .dataframe thead th {\n",
       "        text-align: right;\n",
       "    }\n",
       "</style>\n",
       "<table border=\"1\" class=\"dataframe\">\n",
       "  <thead>\n",
       "    <tr style=\"text-align: right;\">\n",
       "      <th></th>\n",
       "      <th>Accident_Index</th>\n",
       "      <th>Location_Easting_OSGR</th>\n",
       "      <th>Location_Northing_OSGR</th>\n",
       "      <th>Longitude</th>\n",
       "      <th>Latitude</th>\n",
       "      <th>Police_Force</th>\n",
       "      <th>Accident_Severity</th>\n",
       "      <th>Number_of_Vehicles</th>\n",
       "      <th>Number_of_Casualties</th>\n",
       "      <th>Date</th>\n",
       "      <th>...</th>\n",
       "      <th>Pedestrian_Crossing-Human_Control</th>\n",
       "      <th>Pedestrian_Crossing-Physical_Facilities</th>\n",
       "      <th>Light_Conditions</th>\n",
       "      <th>Weather_Conditions</th>\n",
       "      <th>Road_Surface_Conditions</th>\n",
       "      <th>Special_Conditions_at_Site</th>\n",
       "      <th>Carriageway_Hazards</th>\n",
       "      <th>Urban_or_Rural_Area</th>\n",
       "      <th>Did_Police_Officer_Attend_Scene_of_Accident</th>\n",
       "      <th>LSOA_of_Accident_Location</th>\n",
       "    </tr>\n",
       "  </thead>\n",
       "  <tbody>\n",
       "    <tr>\n",
       "      <td>1</td>\n",
       "      <td>200501BS00002</td>\n",
       "      <td>524170.0</td>\n",
       "      <td>181650.0</td>\n",
       "      <td>-0.211708</td>\n",
       "      <td>51.520075</td>\n",
       "      <td>1</td>\n",
       "      <td>3</td>\n",
       "      <td>1</td>\n",
       "      <td>1</td>\n",
       "      <td>05/01/2005</td>\n",
       "      <td>...</td>\n",
       "      <td>0</td>\n",
       "      <td>5</td>\n",
       "      <td>4</td>\n",
       "      <td>1</td>\n",
       "      <td>1</td>\n",
       "      <td>0</td>\n",
       "      <td>0</td>\n",
       "      <td>1</td>\n",
       "      <td>1</td>\n",
       "      <td>E01002909</td>\n",
       "    </tr>\n",
       "    <tr>\n",
       "      <td>2</td>\n",
       "      <td>200501BS00003</td>\n",
       "      <td>524520.0</td>\n",
       "      <td>182240.0</td>\n",
       "      <td>-0.206458</td>\n",
       "      <td>51.525301</td>\n",
       "      <td>1</td>\n",
       "      <td>3</td>\n",
       "      <td>2</td>\n",
       "      <td>1</td>\n",
       "      <td>06/01/2005</td>\n",
       "      <td>...</td>\n",
       "      <td>0</td>\n",
       "      <td>0</td>\n",
       "      <td>4</td>\n",
       "      <td>1</td>\n",
       "      <td>1</td>\n",
       "      <td>0</td>\n",
       "      <td>0</td>\n",
       "      <td>1</td>\n",
       "      <td>1</td>\n",
       "      <td>E01002857</td>\n",
       "    </tr>\n",
       "  </tbody>\n",
       "</table>\n",
       "<p>2 rows × 32 columns</p>\n",
       "</div>"
      ],
      "text/plain": [
       "  Accident_Index  Location_Easting_OSGR  Location_Northing_OSGR  Longitude  \\\n",
       "1  200501BS00002               524170.0                181650.0  -0.211708   \n",
       "2  200501BS00003               524520.0                182240.0  -0.206458   \n",
       "\n",
       "    Latitude  Police_Force  Accident_Severity  Number_of_Vehicles  \\\n",
       "1  51.520075             1                  3                   1   \n",
       "2  51.525301             1                  3                   2   \n",
       "\n",
       "   Number_of_Casualties        Date  ...  Pedestrian_Crossing-Human_Control  \\\n",
       "1                     1  05/01/2005  ...                                  0   \n",
       "2                     1  06/01/2005  ...                                  0   \n",
       "\n",
       "  Pedestrian_Crossing-Physical_Facilities  Light_Conditions  \\\n",
       "1                                       5                 4   \n",
       "2                                       0                 4   \n",
       "\n",
       "  Weather_Conditions  Road_Surface_Conditions  Special_Conditions_at_Site  \\\n",
       "1                  1                        1                           0   \n",
       "2                  1                        1                           0   \n",
       "\n",
       "   Carriageway_Hazards  Urban_or_Rural_Area  \\\n",
       "1                    0                    1   \n",
       "2                    0                    1   \n",
       "\n",
       "   Did_Police_Officer_Attend_Scene_of_Accident  LSOA_of_Accident_Location  \n",
       "1                                            1                  E01002909  \n",
       "2                                            1                  E01002857  \n",
       "\n",
       "[2 rows x 32 columns]"
      ]
     },
     "execution_count": 83,
     "metadata": {},
     "output_type": "execute_result"
    }
   ],
   "source": [
    "accidents_slight = data_accidents.query(\"Accident_Severity == '3'\") # spocita riadky, pre ktore ma atribut Accident_Severity hodnotu 3 - slight\n",
    "print(accidents_slight.shape[0])\n",
    "accidents_slight.head(2)"
   ]
  },
  {
   "cell_type": "code",
   "execution_count": null,
   "metadata": {},
   "outputs": [],
   "source": [
    "# existuju teraz tri databazy: accidents_fatal, accidents_serious a accidents_slight rozdelene podla atributu Accident_Severity, ktory mal hodnoty 1, 2 a 3"
   ]
  },
  {
   "cell_type": "markdown",
   "metadata": {},
   "source": [
    "2. Z tabuľky pre hodnoty `Slight` náhodne vyberte 10% príkladov pomocou metódy `sample`. Nasledujúci príklad kódu zobrazuje použitie tejto metódy."
   ]
  },
  {
   "cell_type": "code",
   "execution_count": 84,
   "metadata": {},
   "outputs": [
    {
     "name": "stdout",
     "output_type": "stream",
     "text": [
      "17079\n"
     ]
    },
    {
     "data": {
      "text/html": [
       "<div>\n",
       "<style scoped>\n",
       "    .dataframe tbody tr th:only-of-type {\n",
       "        vertical-align: middle;\n",
       "    }\n",
       "\n",
       "    .dataframe tbody tr th {\n",
       "        vertical-align: top;\n",
       "    }\n",
       "\n",
       "    .dataframe thead th {\n",
       "        text-align: right;\n",
       "    }\n",
       "</style>\n",
       "<table border=\"1\" class=\"dataframe\">\n",
       "  <thead>\n",
       "    <tr style=\"text-align: right;\">\n",
       "      <th></th>\n",
       "      <th>Accident_Index</th>\n",
       "      <th>Location_Easting_OSGR</th>\n",
       "      <th>Location_Northing_OSGR</th>\n",
       "      <th>Longitude</th>\n",
       "      <th>Latitude</th>\n",
       "      <th>Police_Force</th>\n",
       "      <th>Accident_Severity</th>\n",
       "      <th>Number_of_Vehicles</th>\n",
       "      <th>Number_of_Casualties</th>\n",
       "      <th>Date</th>\n",
       "      <th>...</th>\n",
       "      <th>Pedestrian_Crossing-Human_Control</th>\n",
       "      <th>Pedestrian_Crossing-Physical_Facilities</th>\n",
       "      <th>Light_Conditions</th>\n",
       "      <th>Weather_Conditions</th>\n",
       "      <th>Road_Surface_Conditions</th>\n",
       "      <th>Special_Conditions_at_Site</th>\n",
       "      <th>Carriageway_Hazards</th>\n",
       "      <th>Urban_or_Rural_Area</th>\n",
       "      <th>Did_Police_Officer_Attend_Scene_of_Accident</th>\n",
       "      <th>LSOA_of_Accident_Location</th>\n",
       "    </tr>\n",
       "  </thead>\n",
       "  <tbody>\n",
       "    <tr>\n",
       "      <td>155162</td>\n",
       "      <td>2005470503765</td>\n",
       "      <td>579630.0</td>\n",
       "      <td>111550.0</td>\n",
       "      <td>0.551871</td>\n",
       "      <td>50.875462</td>\n",
       "      <td>47</td>\n",
       "      <td>3</td>\n",
       "      <td>2</td>\n",
       "      <td>1</td>\n",
       "      <td>16/05/2005</td>\n",
       "      <td>...</td>\n",
       "      <td>0</td>\n",
       "      <td>0</td>\n",
       "      <td>1</td>\n",
       "      <td>8</td>\n",
       "      <td>1</td>\n",
       "      <td>0</td>\n",
       "      <td>0</td>\n",
       "      <td>1</td>\n",
       "      <td>2</td>\n",
       "      <td>E01020993</td>\n",
       "    </tr>\n",
       "    <tr>\n",
       "      <td>169895</td>\n",
       "      <td>2005520168041</td>\n",
       "      <td>362930.0</td>\n",
       "      <td>181790.0</td>\n",
       "      <td>-2.535853</td>\n",
       "      <td>51.533742</td>\n",
       "      <td>52</td>\n",
       "      <td>3</td>\n",
       "      <td>4</td>\n",
       "      <td>4</td>\n",
       "      <td>15/12/2005</td>\n",
       "      <td>...</td>\n",
       "      <td>0</td>\n",
       "      <td>0</td>\n",
       "      <td>1</td>\n",
       "      <td>1</td>\n",
       "      <td>2</td>\n",
       "      <td>4</td>\n",
       "      <td>0</td>\n",
       "      <td>2</td>\n",
       "      <td>1</td>\n",
       "      <td>E01015000</td>\n",
       "    </tr>\n",
       "  </tbody>\n",
       "</table>\n",
       "<p>2 rows × 32 columns</p>\n",
       "</div>"
      ],
      "text/plain": [
       "       Accident_Index  Location_Easting_OSGR  Location_Northing_OSGR  \\\n",
       "155162  2005470503765               579630.0                111550.0   \n",
       "169895  2005520168041               362930.0                181790.0   \n",
       "\n",
       "        Longitude   Latitude  Police_Force  Accident_Severity  \\\n",
       "155162   0.551871  50.875462            47                  3   \n",
       "169895  -2.535853  51.533742            52                  3   \n",
       "\n",
       "        Number_of_Vehicles  Number_of_Casualties        Date  ...  \\\n",
       "155162                   2                     1  16/05/2005  ...   \n",
       "169895                   4                     4  15/12/2005  ...   \n",
       "\n",
       "        Pedestrian_Crossing-Human_Control  \\\n",
       "155162                                  0   \n",
       "169895                                  0   \n",
       "\n",
       "       Pedestrian_Crossing-Physical_Facilities  Light_Conditions  \\\n",
       "155162                                       0                 1   \n",
       "169895                                       0                 1   \n",
       "\n",
       "       Weather_Conditions  Road_Surface_Conditions  \\\n",
       "155162                  8                        1   \n",
       "169895                  1                        2   \n",
       "\n",
       "        Special_Conditions_at_Site  Carriageway_Hazards  Urban_or_Rural_Area  \\\n",
       "155162                           0                    0                    1   \n",
       "169895                           4                    0                    2   \n",
       "\n",
       "        Did_Police_Officer_Attend_Scene_of_Accident  LSOA_of_Accident_Location  \n",
       "155162                                            2                  E01020993  \n",
       "169895                                            1                  E01015000  \n",
       "\n",
       "[2 rows x 32 columns]"
      ]
     },
     "execution_count": 84,
     "metadata": {},
     "output_type": "execute_result"
    }
   ],
   "source": [
    "sample_slight = accidents_slight.sample(frac=0.1, random_state=1234)\n",
    "print(sample_slight.shape[0])\n",
    "sample_slight.head(2)    # povodne mala databaza accident_slight 170793 riadkov, teraz bude mat len nahodnych 17079"
   ]
  },
  {
   "cell_type": "markdown",
   "metadata": {},
   "source": [
    "3. Spojte všetky tri tabuľky do upravenej tabuľky `Accidents`, ktorá bude obsahovať 10% príkladov `Slight` a všetky príklady závažnosti `Fatal` a `Serious`. Po spojení by ste mali mať 29 650 príkladov."
   ]
  },
  {
   "cell_type": "code",
   "execution_count": 85,
   "metadata": {},
   "outputs": [
    {
     "name": "stdout",
     "output_type": "stream",
     "text": [
      "45021\n"
     ]
    },
    {
     "data": {
      "text/html": [
       "<div>\n",
       "<style scoped>\n",
       "    .dataframe tbody tr th:only-of-type {\n",
       "        vertical-align: middle;\n",
       "    }\n",
       "\n",
       "    .dataframe tbody tr th {\n",
       "        vertical-align: top;\n",
       "    }\n",
       "\n",
       "    .dataframe thead th {\n",
       "        text-align: right;\n",
       "    }\n",
       "</style>\n",
       "<table border=\"1\" class=\"dataframe\">\n",
       "  <thead>\n",
       "    <tr style=\"text-align: right;\">\n",
       "      <th></th>\n",
       "      <th>Accident_Index</th>\n",
       "      <th>Location_Easting_OSGR</th>\n",
       "      <th>Location_Northing_OSGR</th>\n",
       "      <th>Longitude</th>\n",
       "      <th>Latitude</th>\n",
       "      <th>Police_Force</th>\n",
       "      <th>Accident_Severity</th>\n",
       "      <th>Number_of_Vehicles</th>\n",
       "      <th>Number_of_Casualties</th>\n",
       "      <th>Date</th>\n",
       "      <th>...</th>\n",
       "      <th>Pedestrian_Crossing-Human_Control</th>\n",
       "      <th>Pedestrian_Crossing-Physical_Facilities</th>\n",
       "      <th>Light_Conditions</th>\n",
       "      <th>Weather_Conditions</th>\n",
       "      <th>Road_Surface_Conditions</th>\n",
       "      <th>Special_Conditions_at_Site</th>\n",
       "      <th>Carriageway_Hazards</th>\n",
       "      <th>Urban_or_Rural_Area</th>\n",
       "      <th>Did_Police_Officer_Attend_Scene_of_Accident</th>\n",
       "      <th>LSOA_of_Accident_Location</th>\n",
       "    </tr>\n",
       "  </thead>\n",
       "  <tbody>\n",
       "    <tr>\n",
       "      <td>0</td>\n",
       "      <td>200501CP00085</td>\n",
       "      <td>532120.0</td>\n",
       "      <td>181370.0</td>\n",
       "      <td>-0.097293</td>\n",
       "      <td>51.515757</td>\n",
       "      <td>48</td>\n",
       "      <td>1</td>\n",
       "      <td>2</td>\n",
       "      <td>2</td>\n",
       "      <td>18/05/2005</td>\n",
       "      <td>...</td>\n",
       "      <td>0</td>\n",
       "      <td>0</td>\n",
       "      <td>1</td>\n",
       "      <td>1</td>\n",
       "      <td>1</td>\n",
       "      <td>0</td>\n",
       "      <td>0</td>\n",
       "      <td>1</td>\n",
       "      <td>1</td>\n",
       "      <td>E01000001</td>\n",
       "    </tr>\n",
       "    <tr>\n",
       "      <td>1</td>\n",
       "      <td>200501RY10515</td>\n",
       "      <td>545840.0</td>\n",
       "      <td>175950.0</td>\n",
       "      <td>0.098065</td>\n",
       "      <td>51.463682</td>\n",
       "      <td>1</td>\n",
       "      <td>1</td>\n",
       "      <td>1</td>\n",
       "      <td>1</td>\n",
       "      <td>09/11/2005</td>\n",
       "      <td>...</td>\n",
       "      <td>0</td>\n",
       "      <td>5</td>\n",
       "      <td>1</td>\n",
       "      <td>1</td>\n",
       "      <td>1</td>\n",
       "      <td>0</td>\n",
       "      <td>0</td>\n",
       "      <td>1</td>\n",
       "      <td>1</td>\n",
       "      <td>E01000414</td>\n",
       "    </tr>\n",
       "  </tbody>\n",
       "</table>\n",
       "<p>2 rows × 32 columns</p>\n",
       "</div>"
      ],
      "text/plain": [
       "  Accident_Index  Location_Easting_OSGR  Location_Northing_OSGR  Longitude  \\\n",
       "0  200501CP00085               532120.0                181370.0  -0.097293   \n",
       "1  200501RY10515               545840.0                175950.0   0.098065   \n",
       "\n",
       "    Latitude  Police_Force  Accident_Severity  Number_of_Vehicles  \\\n",
       "0  51.515757            48                  1                   2   \n",
       "1  51.463682             1                  1                   1   \n",
       "\n",
       "   Number_of_Casualties        Date  ...  Pedestrian_Crossing-Human_Control  \\\n",
       "0                     2  18/05/2005  ...                                  0   \n",
       "1                     1  09/11/2005  ...                                  0   \n",
       "\n",
       "  Pedestrian_Crossing-Physical_Facilities  Light_Conditions  \\\n",
       "0                                       0                 1   \n",
       "1                                       5                 1   \n",
       "\n",
       "  Weather_Conditions  Road_Surface_Conditions  Special_Conditions_at_Site  \\\n",
       "0                  1                        1                           0   \n",
       "1                  1                        1                           0   \n",
       "\n",
       "   Carriageway_Hazards  Urban_or_Rural_Area  \\\n",
       "0                    0                    1   \n",
       "1                    0                    1   \n",
       "\n",
       "   Did_Police_Officer_Attend_Scene_of_Accident  LSOA_of_Accident_Location  \n",
       "0                                            1                  E01000001  \n",
       "1                                            1                  E01000414  \n",
       "\n",
       "[2 rows x 32 columns]"
      ]
     },
     "execution_count": 85,
     "metadata": {},
     "output_type": "execute_result"
    }
   ],
   "source": [
    "accidents = pd.concat([accidents_fatal, accidents_serious, sample_slight], ignore_index=True, sort=False)  \n",
    "print(accidents.shape[0])\n",
    "accidents.head(2)     # nanovo spojena databaza by mala mat 2913+25029+17079.....45021 riadkov    PRECO JE V ZADANI 29650 ?"
   ]
  },
  {
   "cell_type": "markdown",
   "metadata": {},
   "source": [
    "4. Spojte upravenú tabuľku `Accidents` s tabuľkou `Vehicles` podľa kľúča `Accident_Index` tak, aby vo výslednej tabuľke boli iba vozidla nehôd z upravenej tabuľky `Accidents`. Po spojení by ste mali dostať redukovanú trénovaciu množinu s menším počtom príkladov, ktorú budete ďalej používať pre analýzu dát. Keďže sme zmenšili počet menej závažných príkladov, zvýšili sme tým váhu príkladov s väčšou závažnosťou.\n"
   ]
  },
  {
   "cell_type": "code",
   "execution_count": 86,
   "metadata": {},
   "outputs": [
    {
     "name": "stdout",
     "output_type": "stream",
     "text": [
      "366236\n",
      "22\n"
     ]
    },
    {
     "data": {
      "text/html": [
       "<div>\n",
       "<style scoped>\n",
       "    .dataframe tbody tr th:only-of-type {\n",
       "        vertical-align: middle;\n",
       "    }\n",
       "\n",
       "    .dataframe tbody tr th {\n",
       "        vertical-align: top;\n",
       "    }\n",
       "\n",
       "    .dataframe thead th {\n",
       "        text-align: right;\n",
       "    }\n",
       "</style>\n",
       "<table border=\"1\" class=\"dataframe\">\n",
       "  <thead>\n",
       "    <tr style=\"text-align: right;\">\n",
       "      <th></th>\n",
       "      <th>Accident_Index</th>\n",
       "      <th>Vehicle_Reference</th>\n",
       "      <th>Vehicle_Type</th>\n",
       "      <th>Towing_and_Articulation</th>\n",
       "      <th>Vehicle_Manoeuvre</th>\n",
       "      <th>Vehicle_Location-Restricted_Lane</th>\n",
       "      <th>Junction_Location</th>\n",
       "      <th>Skidding_and_Overturning</th>\n",
       "      <th>Hit_Object_in_Carriageway</th>\n",
       "      <th>Vehicle_Leaving_Carriageway</th>\n",
       "      <th>...</th>\n",
       "      <th>Was_Vehicle_Left_Hand_Drive?</th>\n",
       "      <th>Journey_Purpose_of_Driver</th>\n",
       "      <th>Sex_of_Driver</th>\n",
       "      <th>Age_of_Driver</th>\n",
       "      <th>Age_Band_of_Driver</th>\n",
       "      <th>Engine_Capacity_(CC)</th>\n",
       "      <th>Propulsion_Code</th>\n",
       "      <th>Age_of_Vehicle</th>\n",
       "      <th>Driver_IMD_Decile</th>\n",
       "      <th>Driver_Home_Area_Type</th>\n",
       "    </tr>\n",
       "  </thead>\n",
       "  <tbody>\n",
       "    <tr>\n",
       "      <td>0</td>\n",
       "      <td>200501BS00001</td>\n",
       "      <td>1</td>\n",
       "      <td>9</td>\n",
       "      <td>0</td>\n",
       "      <td>18</td>\n",
       "      <td>0</td>\n",
       "      <td>0</td>\n",
       "      <td>0</td>\n",
       "      <td>0</td>\n",
       "      <td>0</td>\n",
       "      <td>...</td>\n",
       "      <td>1</td>\n",
       "      <td>15</td>\n",
       "      <td>2</td>\n",
       "      <td>74</td>\n",
       "      <td>10</td>\n",
       "      <td>-1</td>\n",
       "      <td>-1</td>\n",
       "      <td>-1</td>\n",
       "      <td>7</td>\n",
       "      <td>1</td>\n",
       "    </tr>\n",
       "    <tr>\n",
       "      <td>1</td>\n",
       "      <td>200501BS00002</td>\n",
       "      <td>1</td>\n",
       "      <td>11</td>\n",
       "      <td>0</td>\n",
       "      <td>4</td>\n",
       "      <td>0</td>\n",
       "      <td>3</td>\n",
       "      <td>0</td>\n",
       "      <td>0</td>\n",
       "      <td>0</td>\n",
       "      <td>...</td>\n",
       "      <td>1</td>\n",
       "      <td>1</td>\n",
       "      <td>1</td>\n",
       "      <td>42</td>\n",
       "      <td>7</td>\n",
       "      <td>8268</td>\n",
       "      <td>2</td>\n",
       "      <td>3</td>\n",
       "      <td>-1</td>\n",
       "      <td>-1</td>\n",
       "    </tr>\n",
       "  </tbody>\n",
       "</table>\n",
       "<p>2 rows × 22 columns</p>\n",
       "</div>"
      ],
      "text/plain": [
       "  Accident_Index  Vehicle_Reference  Vehicle_Type  Towing_and_Articulation  \\\n",
       "0  200501BS00001                  1             9                        0   \n",
       "1  200501BS00002                  1            11                        0   \n",
       "\n",
       "   Vehicle_Manoeuvre  Vehicle_Location-Restricted_Lane  Junction_Location  \\\n",
       "0                 18                                 0                  0   \n",
       "1                  4                                 0                  3   \n",
       "\n",
       "   Skidding_and_Overturning  Hit_Object_in_Carriageway  \\\n",
       "0                         0                          0   \n",
       "1                         0                          0   \n",
       "\n",
       "   Vehicle_Leaving_Carriageway  ...  Was_Vehicle_Left_Hand_Drive?  \\\n",
       "0                            0  ...                             1   \n",
       "1                            0  ...                             1   \n",
       "\n",
       "   Journey_Purpose_of_Driver  Sex_of_Driver  Age_of_Driver  \\\n",
       "0                         15              2             74   \n",
       "1                          1              1             42   \n",
       "\n",
       "   Age_Band_of_Driver  Engine_Capacity_(CC)  Propulsion_Code  Age_of_Vehicle  \\\n",
       "0                  10                    -1               -1              -1   \n",
       "1                   7                  8268                2               3   \n",
       "\n",
       "   Driver_IMD_Decile  Driver_Home_Area_Type  \n",
       "0                  7                      1  \n",
       "1                 -1                     -1  \n",
       "\n",
       "[2 rows x 22 columns]"
      ]
     },
     "execution_count": 86,
     "metadata": {},
     "output_type": "execute_result"
    }
   ],
   "source": [
    "vehicles = pd.read_csv(\"../zadanie/data/Vehicles.csv\")  # nacitam databazu\n",
    "print(vehicles.shape[0])\n",
    "print(vehicles.shape[1])    # iba na kontrolu, kolko ma atributov a kolko riadkov\n",
    "vehicles.head(2)  "
   ]
  },
  {
   "cell_type": "code",
   "execution_count": null,
   "metadata": {},
   "outputs": [],
   "source": [
    "# databaza vehicles ma ine atributy 22 ako databaza accident 32, spolocny je prave Accident_Index\n",
    "# spojena databaza data_all bude mat teda 53 atributov"
   ]
  },
  {
   "cell_type": "code",
   "execution_count": 87,
   "metadata": {},
   "outputs": [
    {
     "name": "stdout",
     "output_type": "stream",
     "text": [
      "53\n",
      "79382\n"
     ]
    },
    {
     "data": {
      "text/html": [
       "<div>\n",
       "<style scoped>\n",
       "    .dataframe tbody tr th:only-of-type {\n",
       "        vertical-align: middle;\n",
       "    }\n",
       "\n",
       "    .dataframe tbody tr th {\n",
       "        vertical-align: top;\n",
       "    }\n",
       "\n",
       "    .dataframe thead th {\n",
       "        text-align: right;\n",
       "    }\n",
       "</style>\n",
       "<table border=\"1\" class=\"dataframe\">\n",
       "  <thead>\n",
       "    <tr style=\"text-align: right;\">\n",
       "      <th></th>\n",
       "      <th>Accident_Index</th>\n",
       "      <th>Location_Easting_OSGR</th>\n",
       "      <th>Location_Northing_OSGR</th>\n",
       "      <th>Longitude</th>\n",
       "      <th>Latitude</th>\n",
       "      <th>Police_Force</th>\n",
       "      <th>Accident_Severity</th>\n",
       "      <th>Number_of_Vehicles</th>\n",
       "      <th>Number_of_Casualties</th>\n",
       "      <th>Date</th>\n",
       "      <th>...</th>\n",
       "      <th>Was_Vehicle_Left_Hand_Drive?</th>\n",
       "      <th>Journey_Purpose_of_Driver</th>\n",
       "      <th>Sex_of_Driver</th>\n",
       "      <th>Age_of_Driver</th>\n",
       "      <th>Age_Band_of_Driver</th>\n",
       "      <th>Engine_Capacity_(CC)</th>\n",
       "      <th>Propulsion_Code</th>\n",
       "      <th>Age_of_Vehicle</th>\n",
       "      <th>Driver_IMD_Decile</th>\n",
       "      <th>Driver_Home_Area_Type</th>\n",
       "    </tr>\n",
       "  </thead>\n",
       "  <tbody>\n",
       "    <tr>\n",
       "      <td>0</td>\n",
       "      <td>200501CP00085</td>\n",
       "      <td>532120.0</td>\n",
       "      <td>181370.0</td>\n",
       "      <td>-0.097293</td>\n",
       "      <td>51.515757</td>\n",
       "      <td>48</td>\n",
       "      <td>1</td>\n",
       "      <td>2</td>\n",
       "      <td>2</td>\n",
       "      <td>18/05/2005</td>\n",
       "      <td>...</td>\n",
       "      <td>1</td>\n",
       "      <td>2</td>\n",
       "      <td>1</td>\n",
       "      <td>40</td>\n",
       "      <td>7</td>\n",
       "      <td>984</td>\n",
       "      <td>1</td>\n",
       "      <td>-1</td>\n",
       "      <td>6</td>\n",
       "      <td>1</td>\n",
       "    </tr>\n",
       "    <tr>\n",
       "      <td>1</td>\n",
       "      <td>200501CP00085</td>\n",
       "      <td>532120.0</td>\n",
       "      <td>181370.0</td>\n",
       "      <td>-0.097293</td>\n",
       "      <td>51.515757</td>\n",
       "      <td>48</td>\n",
       "      <td>1</td>\n",
       "      <td>2</td>\n",
       "      <td>2</td>\n",
       "      <td>18/05/2005</td>\n",
       "      <td>...</td>\n",
       "      <td>1</td>\n",
       "      <td>2</td>\n",
       "      <td>1</td>\n",
       "      <td>20</td>\n",
       "      <td>4</td>\n",
       "      <td>-1</td>\n",
       "      <td>-1</td>\n",
       "      <td>-1</td>\n",
       "      <td>-1</td>\n",
       "      <td>-1</td>\n",
       "    </tr>\n",
       "    <tr>\n",
       "      <td>2</td>\n",
       "      <td>200501RY10515</td>\n",
       "      <td>545840.0</td>\n",
       "      <td>175950.0</td>\n",
       "      <td>0.098065</td>\n",
       "      <td>51.463682</td>\n",
       "      <td>1</td>\n",
       "      <td>1</td>\n",
       "      <td>1</td>\n",
       "      <td>1</td>\n",
       "      <td>09/11/2005</td>\n",
       "      <td>...</td>\n",
       "      <td>1</td>\n",
       "      <td>15</td>\n",
       "      <td>1</td>\n",
       "      <td>59</td>\n",
       "      <td>9</td>\n",
       "      <td>9600</td>\n",
       "      <td>2</td>\n",
       "      <td>5</td>\n",
       "      <td>3</td>\n",
       "      <td>1</td>\n",
       "    </tr>\n",
       "    <tr>\n",
       "      <td>3</td>\n",
       "      <td>200501TA00003</td>\n",
       "      <td>526450.0</td>\n",
       "      <td>182350.0</td>\n",
       "      <td>-0.178613</td>\n",
       "      <td>51.525861</td>\n",
       "      <td>1</td>\n",
       "      <td>1</td>\n",
       "      <td>2</td>\n",
       "      <td>1</td>\n",
       "      <td>06/01/2005</td>\n",
       "      <td>...</td>\n",
       "      <td>1</td>\n",
       "      <td>15</td>\n",
       "      <td>1</td>\n",
       "      <td>25</td>\n",
       "      <td>5</td>\n",
       "      <td>-1</td>\n",
       "      <td>-1</td>\n",
       "      <td>-1</td>\n",
       "      <td>-1</td>\n",
       "      <td>-1</td>\n",
       "    </tr>\n",
       "    <tr>\n",
       "      <td>4</td>\n",
       "      <td>200501TA00003</td>\n",
       "      <td>526450.0</td>\n",
       "      <td>182350.0</td>\n",
       "      <td>-0.178613</td>\n",
       "      <td>51.525861</td>\n",
       "      <td>1</td>\n",
       "      <td>1</td>\n",
       "      <td>2</td>\n",
       "      <td>1</td>\n",
       "      <td>06/01/2005</td>\n",
       "      <td>...</td>\n",
       "      <td>1</td>\n",
       "      <td>15</td>\n",
       "      <td>1</td>\n",
       "      <td>29</td>\n",
       "      <td>6</td>\n",
       "      <td>1596</td>\n",
       "      <td>1</td>\n",
       "      <td>3</td>\n",
       "      <td>5</td>\n",
       "      <td>1</td>\n",
       "    </tr>\n",
       "  </tbody>\n",
       "</table>\n",
       "<p>5 rows × 53 columns</p>\n",
       "</div>"
      ],
      "text/plain": [
       "  Accident_Index  Location_Easting_OSGR  Location_Northing_OSGR  Longitude  \\\n",
       "0  200501CP00085               532120.0                181370.0  -0.097293   \n",
       "1  200501CP00085               532120.0                181370.0  -0.097293   \n",
       "2  200501RY10515               545840.0                175950.0   0.098065   \n",
       "3  200501TA00003               526450.0                182350.0  -0.178613   \n",
       "4  200501TA00003               526450.0                182350.0  -0.178613   \n",
       "\n",
       "    Latitude  Police_Force  Accident_Severity  Number_of_Vehicles  \\\n",
       "0  51.515757            48                  1                   2   \n",
       "1  51.515757            48                  1                   2   \n",
       "2  51.463682             1                  1                   1   \n",
       "3  51.525861             1                  1                   2   \n",
       "4  51.525861             1                  1                   2   \n",
       "\n",
       "   Number_of_Casualties        Date  ...  Was_Vehicle_Left_Hand_Drive?  \\\n",
       "0                     2  18/05/2005  ...                             1   \n",
       "1                     2  18/05/2005  ...                             1   \n",
       "2                     1  09/11/2005  ...                             1   \n",
       "3                     1  06/01/2005  ...                             1   \n",
       "4                     1  06/01/2005  ...                             1   \n",
       "\n",
       "  Journey_Purpose_of_Driver  Sex_of_Driver Age_of_Driver  Age_Band_of_Driver  \\\n",
       "0                         2              1            40                   7   \n",
       "1                         2              1            20                   4   \n",
       "2                        15              1            59                   9   \n",
       "3                        15              1            25                   5   \n",
       "4                        15              1            29                   6   \n",
       "\n",
       "   Engine_Capacity_(CC)  Propulsion_Code  Age_of_Vehicle  Driver_IMD_Decile  \\\n",
       "0                   984                1              -1                  6   \n",
       "1                    -1               -1              -1                 -1   \n",
       "2                  9600                2               5                  3   \n",
       "3                    -1               -1              -1                 -1   \n",
       "4                  1596                1               3                  5   \n",
       "\n",
       "   Driver_Home_Area_Type  \n",
       "0                      1  \n",
       "1                     -1  \n",
       "2                      1  \n",
       "3                     -1  \n",
       "4                      1  \n",
       "\n",
       "[5 rows x 53 columns]"
      ]
     },
     "execution_count": 87,
     "metadata": {},
     "output_type": "execute_result"
    }
   ],
   "source": [
    "data_all = pd.merge(left=accidents, right=vehicles, left_on=\"Accident_Index\", right_on=\"Accident_Index\", how=\"inner\")   # inner - lebo treba vybrat dáta ak majú kľúč aj v pravej aj v ľavej tabuľke (prienik)\n",
    "print(data_all.shape[1])\n",
    "print(data_all.shape[0])    \n",
    "data_all.head()"
   ]
  },
  {
   "cell_type": "code",
   "execution_count": 88,
   "metadata": {},
   "outputs": [
    {
     "data": {
      "text/plain": [
       "Index(['Accident_Index', 'Location_Easting_OSGR', 'Location_Northing_OSGR',\n",
       "       'Longitude', 'Latitude', 'Police_Force', 'Accident_Severity',\n",
       "       'Number_of_Vehicles', 'Number_of_Casualties', 'Date', 'Day_of_Week',\n",
       "       'Time', 'Local_Authority_(District)', 'Local_Authority_(Highway)',\n",
       "       '1st_Road_Class', '1st_Road_Number', 'Road_Type', 'Speed_limit',\n",
       "       'Junction_Detail', 'Junction_Control', '2nd_Road_Class',\n",
       "       '2nd_Road_Number', 'Pedestrian_Crossing-Human_Control',\n",
       "       'Pedestrian_Crossing-Physical_Facilities', 'Light_Conditions',\n",
       "       'Weather_Conditions', 'Road_Surface_Conditions',\n",
       "       'Special_Conditions_at_Site', 'Carriageway_Hazards',\n",
       "       'Urban_or_Rural_Area', 'Did_Police_Officer_Attend_Scene_of_Accident',\n",
       "       'LSOA_of_Accident_Location', 'Vehicle_Reference', 'Vehicle_Type',\n",
       "       'Towing_and_Articulation', 'Vehicle_Manoeuvre',\n",
       "       'Vehicle_Location-Restricted_Lane', 'Junction_Location',\n",
       "       'Skidding_and_Overturning', 'Hit_Object_in_Carriageway',\n",
       "       'Vehicle_Leaving_Carriageway', 'Hit_Object_off_Carriageway',\n",
       "       '1st_Point_of_Impact', 'Was_Vehicle_Left_Hand_Drive?',\n",
       "       'Journey_Purpose_of_Driver', 'Sex_of_Driver', 'Age_of_Driver',\n",
       "       'Age_Band_of_Driver', 'Engine_Capacity_(CC)', 'Propulsion_Code',\n",
       "       'Age_of_Vehicle', 'Driver_IMD_Decile', 'Driver_Home_Area_Type'],\n",
       "      dtype='object')"
      ]
     },
     "execution_count": 88,
     "metadata": {},
     "output_type": "execute_result"
    }
   ],
   "source": [
    "data_all.columns   # len na kontrolu, vypise vsetky atributy spojenej tabulky"
   ]
  },
  {
   "cell_type": "markdown",
   "metadata": {},
   "source": [
    "5. Pre ďalšiu analýzu vyberte iba nasledujúce atribúty:\n",
    "    * `Day_of_Week`\n",
    "    * `1st_Road_Class`\n",
    "    * `Road_Type`\n",
    "    * `Light_Conditions`\n",
    "    * `Weather_Conditions`     \n",
    "    * `Road_Surface_Conditions`\n",
    "    * `Urban_or_Rural_Area`\n",
    "    * `Vehicle_Type`\n",
    "    * `Sex_of_Driver`\n",
    "    * `Age_of_Driver`\n",
    "    * `Engine_Capacity_(CC)`\n",
    "    * `Age_of_Vehicle`\n",
    "    * `Accident_Severity`\n"
   ]
  },
  {
   "cell_type": "code",
   "execution_count": 89,
   "metadata": {},
   "outputs": [
    {
     "name": "stdout",
     "output_type": "stream",
     "text": [
      "13\n",
      "79382\n"
     ]
    },
    {
     "data": {
      "text/html": [
       "<div>\n",
       "<style scoped>\n",
       "    .dataframe tbody tr th:only-of-type {\n",
       "        vertical-align: middle;\n",
       "    }\n",
       "\n",
       "    .dataframe tbody tr th {\n",
       "        vertical-align: top;\n",
       "    }\n",
       "\n",
       "    .dataframe thead th {\n",
       "        text-align: right;\n",
       "    }\n",
       "</style>\n",
       "<table border=\"1\" class=\"dataframe\">\n",
       "  <thead>\n",
       "    <tr style=\"text-align: right;\">\n",
       "      <th></th>\n",
       "      <th>Day_of_Week</th>\n",
       "      <th>1st_Road_Class</th>\n",
       "      <th>Road_Type</th>\n",
       "      <th>Light_Conditions</th>\n",
       "      <th>Weather_Conditions</th>\n",
       "      <th>Road_Surface_Conditions</th>\n",
       "      <th>Urban_or_Rural_Area</th>\n",
       "      <th>Vehicle_Type</th>\n",
       "      <th>Sex_of_Driver</th>\n",
       "      <th>Age_of_Driver</th>\n",
       "      <th>Engine_Capacity_(CC)</th>\n",
       "      <th>Age_of_Vehicle</th>\n",
       "      <th>Accident_Severity</th>\n",
       "    </tr>\n",
       "  </thead>\n",
       "  <tbody>\n",
       "    <tr>\n",
       "      <td>0</td>\n",
       "      <td>4</td>\n",
       "      <td>3</td>\n",
       "      <td>2</td>\n",
       "      <td>1</td>\n",
       "      <td>1</td>\n",
       "      <td>1</td>\n",
       "      <td>1</td>\n",
       "      <td>5</td>\n",
       "      <td>1</td>\n",
       "      <td>40</td>\n",
       "      <td>984</td>\n",
       "      <td>-1</td>\n",
       "      <td>1</td>\n",
       "    </tr>\n",
       "    <tr>\n",
       "      <td>1</td>\n",
       "      <td>4</td>\n",
       "      <td>3</td>\n",
       "      <td>2</td>\n",
       "      <td>1</td>\n",
       "      <td>1</td>\n",
       "      <td>1</td>\n",
       "      <td>1</td>\n",
       "      <td>1</td>\n",
       "      <td>1</td>\n",
       "      <td>20</td>\n",
       "      <td>-1</td>\n",
       "      <td>-1</td>\n",
       "      <td>1</td>\n",
       "    </tr>\n",
       "    <tr>\n",
       "      <td>2</td>\n",
       "      <td>4</td>\n",
       "      <td>5</td>\n",
       "      <td>6</td>\n",
       "      <td>1</td>\n",
       "      <td>1</td>\n",
       "      <td>1</td>\n",
       "      <td>1</td>\n",
       "      <td>11</td>\n",
       "      <td>1</td>\n",
       "      <td>59</td>\n",
       "      <td>9600</td>\n",
       "      <td>5</td>\n",
       "      <td>1</td>\n",
       "    </tr>\n",
       "    <tr>\n",
       "      <td>3</td>\n",
       "      <td>5</td>\n",
       "      <td>4</td>\n",
       "      <td>6</td>\n",
       "      <td>1</td>\n",
       "      <td>1</td>\n",
       "      <td>2</td>\n",
       "      <td>1</td>\n",
       "      <td>1</td>\n",
       "      <td>1</td>\n",
       "      <td>25</td>\n",
       "      <td>-1</td>\n",
       "      <td>-1</td>\n",
       "      <td>1</td>\n",
       "    </tr>\n",
       "    <tr>\n",
       "      <td>4</td>\n",
       "      <td>5</td>\n",
       "      <td>4</td>\n",
       "      <td>6</td>\n",
       "      <td>1</td>\n",
       "      <td>1</td>\n",
       "      <td>2</td>\n",
       "      <td>1</td>\n",
       "      <td>9</td>\n",
       "      <td>1</td>\n",
       "      <td>29</td>\n",
       "      <td>1596</td>\n",
       "      <td>3</td>\n",
       "      <td>1</td>\n",
       "    </tr>\n",
       "  </tbody>\n",
       "</table>\n",
       "</div>"
      ],
      "text/plain": [
       "   Day_of_Week  1st_Road_Class  Road_Type  Light_Conditions  \\\n",
       "0            4               3          2                 1   \n",
       "1            4               3          2                 1   \n",
       "2            4               5          6                 1   \n",
       "3            5               4          6                 1   \n",
       "4            5               4          6                 1   \n",
       "\n",
       "   Weather_Conditions  Road_Surface_Conditions  Urban_or_Rural_Area  \\\n",
       "0                   1                        1                    1   \n",
       "1                   1                        1                    1   \n",
       "2                   1                        1                    1   \n",
       "3                   1                        2                    1   \n",
       "4                   1                        2                    1   \n",
       "\n",
       "   Vehicle_Type  Sex_of_Driver  Age_of_Driver  Engine_Capacity_(CC)  \\\n",
       "0             5              1             40                   984   \n",
       "1             1              1             20                    -1   \n",
       "2            11              1             59                  9600   \n",
       "3             1              1             25                    -1   \n",
       "4             9              1             29                  1596   \n",
       "\n",
       "   Age_of_Vehicle  Accident_Severity  \n",
       "0              -1                  1  \n",
       "1              -1                  1  \n",
       "2               5                  1  \n",
       "3              -1                  1  \n",
       "4               3                  1  "
      ]
     },
     "execution_count": 89,
     "metadata": {},
     "output_type": "execute_result"
    }
   ],
   "source": [
    "data_selection = data_all[[\"Day_of_Week\", \"1st_Road_Class\", \"Road_Type\", \"Light_Conditions\", \"Weather_Conditions\", \"Road_Surface_Conditions\", \"Urban_or_Rural_Area\", \"Vehicle_Type\", \"Sex_of_Driver\", \"Age_of_Driver\", \"Engine_Capacity_(CC)\", \"Age_of_Vehicle\", \"Accident_Severity\"]]\n",
    "print(data_selection.shape[1])\n",
    "print(data_selection.shape[0])\n",
    "data_selection.head()   # data_selection je databaza s 13-imi atributmi"
   ]
  },
  {
   "cell_type": "markdown",
   "metadata": {},
   "source": [
    "6. Spočítajte počet chýbajúcich hodnôt pre jednotlivé atribúty. Vhodne doplňte chýbajúce hodnoty (pozor: chýbajúce hodnoty sú označené -1).(4b)\n"
   ]
  },
  {
   "cell_type": "code",
   "execution_count": 13,
   "metadata": {},
   "outputs": [],
   "source": [
    "# Day_of_Week, 1st_Road_Class, Road_Type, Light_Conditions, Weather_Conditions,Urban_or_Rural_Area, Accident_Severity .....nema -1\n",
    "\n",
    "# ostatne atributy maju -1"
   ]
  },
  {
   "cell_type": "code",
   "execution_count": 90,
   "metadata": {},
   "outputs": [
    {
     "data": {
      "text/plain": [
       "6    12947\n",
       "5    11618\n",
       "4    11549\n",
       "3    11416\n",
       "7    11352\n",
       "2    10917\n",
       "1     9583\n",
       "Name: Day_of_Week, dtype: int64"
      ]
     },
     "execution_count": 90,
     "metadata": {},
     "output_type": "execute_result"
    }
   ],
   "source": [
    "data_selection[\"Day_of_Week\"].value_counts()    # 1 - 7 / Po - Ne....OK vsetko sedi"
   ]
  },
  {
   "cell_type": "code",
   "execution_count": 91,
   "metadata": {},
   "outputs": [
    {
     "data": {
      "text/plain": [
       "3    37465\n",
       "6    21702\n",
       "4    10133\n",
       "5     6226\n",
       "1     3671\n",
       "2      185\n",
       "Name: 1st_Road_Class, dtype: int64"
      ]
     },
     "execution_count": 91,
     "metadata": {},
     "output_type": "execute_result"
    }
   ],
   "source": [
    "data_selection[\"1st_Road_Class\"].value_counts()     # 6 je unclassified .....nenahradzam....vzhladom na vysoky pocet 21702 neidentifikovanych, asi ho neskor vynecham   "
   ]
  },
  {
   "cell_type": "code",
   "execution_count": 92,
   "metadata": {},
   "outputs": [
    {
     "data": {
      "text/plain": [
       "6    59997\n",
       "3    12879\n",
       "1     4006\n",
       "2     1385\n",
       "7      645\n",
       "9      470\n",
       "Name: Road_Type, dtype: int64"
      ]
     },
     "execution_count": 92,
     "metadata": {},
     "output_type": "execute_result"
    }
   ],
   "source": [
    "data_selection[\"Road_Type\"].value_counts()     # -1 nie su, akurat je 470 pod kodom 9 - Unknown ..vynecham ich nenahradzam"
   ]
  },
  {
   "cell_type": "code",
   "execution_count": 93,
   "metadata": {},
   "outputs": [
    {
     "data": {
      "text/plain": [
       "6    59997\n",
       "3    12879\n",
       "1     4006\n",
       "2     1385\n",
       "7      645\n",
       "Name: Road_Type, dtype: int64"
      ]
     },
     "execution_count": 93,
     "metadata": {},
     "output_type": "execute_result"
    }
   ],
   "source": [
    "data_selection = data_selection.query(\"Road_Type != 9\")\n",
    "data_selection[\"Road_Type\"].value_counts()"
   ]
  },
  {
   "cell_type": "code",
   "execution_count": 94,
   "metadata": {},
   "outputs": [
    {
     "data": {
      "text/plain": [
       "1    55859\n",
       "4    16021\n",
       "6     6095\n",
       "7      516\n",
       "5      421\n",
       "Name: Light_Conditions, dtype: int64"
      ]
     },
     "execution_count": 94,
     "metadata": {},
     "output_type": "execute_result"
    }
   ],
   "source": [
    "data_selection[\"Light_Conditions\"].value_counts()    # -1 nie su, kod 7 - undefined - vynecham"
   ]
  },
  {
   "cell_type": "code",
   "execution_count": 95,
   "metadata": {},
   "outputs": [
    {
     "data": {
      "text/plain": [
       "1    55859\n",
       "4    16021\n",
       "6     6095\n",
       "5      421\n",
       "Name: Light_Conditions, dtype: int64"
      ]
     },
     "execution_count": 95,
     "metadata": {},
     "output_type": "execute_result"
    }
   ],
   "source": [
    "data_selection = data_selection.query(\"Light_Conditions != 7\")\n",
    "data_selection[\"Light_Conditions\"].value_counts()"
   ]
  },
  {
   "cell_type": "code",
   "execution_count": 96,
   "metadata": {},
   "outputs": [
    {
     "data": {
      "text/plain": [
       "1    64227\n",
       "2     8441\n",
       "8     1790\n",
       "4     1063\n",
       "9      895\n",
       "5      779\n",
       "3      567\n",
       "7      520\n",
       "6      114\n",
       "Name: Weather_Conditions, dtype: int64"
      ]
     },
     "execution_count": 96,
     "metadata": {},
     "output_type": "execute_result"
    }
   ],
   "source": [
    "data_selection[\"Weather_Conditions\"].value_counts()    # -1 nie su, kod 9 Unknown.....vynecham"
   ]
  },
  {
   "cell_type": "code",
   "execution_count": 97,
   "metadata": {},
   "outputs": [
    {
     "data": {
      "text/plain": [
       "1    64227\n",
       "2     8441\n",
       "8     1790\n",
       "4     1063\n",
       "5      779\n",
       "3      567\n",
       "7      520\n",
       "6      114\n",
       "Name: Weather_Conditions, dtype: int64"
      ]
     },
     "execution_count": 97,
     "metadata": {},
     "output_type": "execute_result"
    }
   ],
   "source": [
    "data_selection = data_selection.query(\"Weather_Conditions != 9\")\n",
    "data_selection[\"Weather_Conditions\"].value_counts()"
   ]
  },
  {
   "cell_type": "code",
   "execution_count": 98,
   "metadata": {},
   "outputs": [
    {
     "data": {
      "text/plain": [
       "1    43989\n",
       "2    33475\n",
       "3       37\n",
       "Name: Urban_or_Rural_Area, dtype: int64"
      ]
     },
     "execution_count": 98,
     "metadata": {},
     "output_type": "execute_result"
    }
   ],
   "source": [
    "data_selection[\"Urban_or_Rural_Area\"].value_counts()    # -1 nie su, kod 3 Unlocated.....nahradim 1"
   ]
  },
  {
   "cell_type": "code",
   "execution_count": 99,
   "metadata": {},
   "outputs": [
    {
     "data": {
      "text/plain": [
       "1    44026\n",
       "2    33475\n",
       "Name: Urban_or_Rural_Area, dtype: int64"
      ]
     },
     "execution_count": 99,
     "metadata": {},
     "output_type": "execute_result"
    }
   ],
   "source": [
    "data_selection[\"Urban_or_Rural_Area\"] = data_selection[\"Urban_or_Rural_Area\"].replace(3, 1)\n",
    "data_selection[\"Urban_or_Rural_Area\"].value_counts()"
   ]
  },
  {
   "cell_type": "code",
   "execution_count": 100,
   "metadata": {},
   "outputs": [
    {
     "data": {
      "text/plain": [
       " 1    53358\n",
       " 2    22560\n",
       " 4     1116\n",
       " 3      352\n",
       " 5       86\n",
       "-1       29\n",
       "Name: Road_Surface_Conditions, dtype: int64"
      ]
     },
     "execution_count": 100,
     "metadata": {},
     "output_type": "execute_result"
    }
   ],
   "source": [
    "data_selection[\"Road_Surface_Conditions\"].value_counts()"
   ]
  },
  {
   "cell_type": "code",
   "execution_count": 23,
   "metadata": {},
   "outputs": [],
   "source": [
    "# Road_Surface_Condition ma 80 hodnot -1, vynecham ich"
   ]
  },
  {
   "cell_type": "code",
   "execution_count": 101,
   "metadata": {},
   "outputs": [
    {
     "data": {
      "text/plain": [
       "1    53358\n",
       "2    22560\n",
       "4     1116\n",
       "3      352\n",
       "5       86\n",
       "Name: Road_Surface_Conditions, dtype: int64"
      ]
     },
     "execution_count": 101,
     "metadata": {},
     "output_type": "execute_result"
    }
   ],
   "source": [
    "data_selection = data_selection.query(\"Road_Surface_Conditions != -1\")\n",
    "data_selection[\"Road_Surface_Conditions\"].value_counts()"
   ]
  },
  {
   "cell_type": "code",
   "execution_count": 102,
   "metadata": {},
   "outputs": [
    {
     "data": {
      "text/plain": [
       " 9     54342\n",
       " 5      4377\n",
       " 1      3811\n",
       " 19     3440\n",
       " 21     2423\n",
       " 3      2065\n",
       " 11     1963\n",
       " 2      1275\n",
       " 8      1145\n",
       " 4       891\n",
       " 20      682\n",
       " 90      513\n",
       " 10      270\n",
       " 17      223\n",
       " 16       29\n",
       "-1        13\n",
       " 18       10\n",
       "Name: Vehicle_Type, dtype: int64"
      ]
     },
     "execution_count": 102,
     "metadata": {},
     "output_type": "execute_result"
    }
   ],
   "source": [
    "data_selection[\"Vehicle_Type\"].value_counts()"
   ]
  },
  {
   "cell_type": "code",
   "execution_count": 103,
   "metadata": {},
   "outputs": [
    {
     "data": {
      "text/plain": [
       "9     54342\n",
       "5      4377\n",
       "1      3811\n",
       "19     3440\n",
       "21     2423\n",
       "3      2065\n",
       "11     1963\n",
       "2      1275\n",
       "8      1145\n",
       "4       891\n",
       "20      682\n",
       "90      513\n",
       "10      270\n",
       "17      223\n",
       "16       29\n",
       "18       10\n",
       "Name: Vehicle_Type, dtype: int64"
      ]
     },
     "execution_count": 103,
     "metadata": {},
     "output_type": "execute_result"
    }
   ],
   "source": [
    "# najprv vynecham -1\n",
    "\n",
    "data_selection = data_selection.query(\"Vehicle_Type != -1\")\n",
    "data_selection[\"Vehicle_Type\"].value_counts()"
   ]
  },
  {
   "cell_type": "code",
   "execution_count": 104,
   "metadata": {},
   "outputs": [
    {
     "data": {
      "text/plain": [
       "9     55487\n",
       "2      8608\n",
       "21     6545\n",
       "1      3811\n",
       "11     2233\n",
       "17      223\n",
       "16       29\n",
       "Name: Vehicle_Type, dtype: int64"
      ]
     },
     "execution_count": 104,
     "metadata": {},
     "output_type": "execute_result"
    }
   ],
   "source": [
    "# zostalo 16 tried je dost, skusim ich pretriedit\n",
    "# 2, 3, 4, 5 - su motorky s roznou kubaturov .....uz len 13 tried\n",
    "# 10, 11  je minimus a bus .....uz len 12 tried\n",
    "# 8 je taxi, co je vlastne car - premenujem na car 9  ... uz len 11 tried\n",
    "# 18 je tram ....len 9 hodnot ...vynecham....uz len 10 tried \n",
    "# 19, 20, 21 - nakladne auta roznej kubatury ..... uz len 8 tried\n",
    "# 90 - other....vynecham .... uz len 7 tried\n",
    "data_selection[\"Vehicle_Type\"] = data_selection[\"Vehicle_Type\"].replace(3, 2)\n",
    "data_selection[\"Vehicle_Type\"] = data_selection[\"Vehicle_Type\"].replace(4, 2)\n",
    "data_selection[\"Vehicle_Type\"] = data_selection[\"Vehicle_Type\"].replace(5, 2)\n",
    "data_selection[\"Vehicle_Type\"] = data_selection[\"Vehicle_Type\"].replace(8, 9)\n",
    "data_selection[\"Vehicle_Type\"] = data_selection[\"Vehicle_Type\"].replace(10, 11)\n",
    "data_selection[\"Vehicle_Type\"] = data_selection[\"Vehicle_Type\"].replace(19, 21)\n",
    "data_selection[\"Vehicle_Type\"] = data_selection[\"Vehicle_Type\"].replace(20, 21)\n",
    "data_selection = data_selection.query(\"Vehicle_Type != 18\")\n",
    "data_selection = data_selection.query(\"Vehicle_Type != 90\")\n",
    "data_selection[\"Vehicle_Type\"].value_counts()\n",
    "\n",
    "# 1 - Pedal Cycle\n",
    "# 2 - Motorcycle\n",
    "# 9 - Car\n",
    "# 11 - Minibus/Bus\n",
    "# 16 - Riding horse\n",
    "# 17 - Agriculture vehicle\n",
    "# 21 - Van/Goods"
   ]
  },
  {
   "cell_type": "code",
   "execution_count": 29,
   "metadata": {},
   "outputs": [
    {
     "data": {
      "image/png": "[encoded data removed]",
      "text/plain": [
       "<Figure size 432x288 with 1 Axes>"
      ]
     },
     "metadata": {
      "needs_background": "light"
     },
     "output_type": "display_data"
    }
   ],
   "source": [
    "vt = data_selection[\"Vehicle_Type\"].hist()"
   ]
  },
  {
   "cell_type": "code",
   "execution_count": 105,
   "metadata": {},
   "outputs": [
    {
     "data": {
      "text/plain": [
       " 1    54364\n",
       " 2    18527\n",
       " 3     4039\n",
       "-1        6\n",
       "Name: Sex_of_Driver, dtype: int64"
      ]
     },
     "execution_count": 105,
     "metadata": {},
     "output_type": "execute_result"
    }
   ],
   "source": [
    "data_selection[\"Sex_of_Driver\"].value_counts()"
   ]
  },
  {
   "cell_type": "code",
   "execution_count": null,
   "metadata": {},
   "outputs": [],
   "source": [
    "# prvy krok - Sex_of_Driver ma 6 hodnot -1, nahradim ich 3"
   ]
  },
  {
   "cell_type": "code",
   "execution_count": 106,
   "metadata": {},
   "outputs": [
    {
     "data": {
      "text/plain": [
       "1    54364\n",
       "2    18527\n",
       "3     4045\n",
       "Name: Sex_of_Driver, dtype: int64"
      ]
     },
     "execution_count": 106,
     "metadata": {},
     "output_type": "execute_result"
    }
   ],
   "source": [
    "data_selection[\"Sex_of_Driver\"] = data_selection[\"Sex_of_Driver\"].replace(-1, 3)\n",
    "data_selection[\"Sex_of_Driver\"].value_counts()"
   ]
  },
  {
   "cell_type": "code",
   "execution_count": null,
   "metadata": {},
   "outputs": [],
   "source": [
    "# druhy krok - Sex_of_Driver ma 4045 hodnot Not known.....tieto zaznamy odstranim, je to dost dolezity atribut, preto nebudem nahradzat"
   ]
  },
  {
   "cell_type": "code",
   "execution_count": 107,
   "metadata": {},
   "outputs": [
    {
     "data": {
      "text/plain": [
       "1    54364\n",
       "2    18527\n",
       "Name: Sex_of_Driver, dtype: int64"
      ]
     },
     "execution_count": 107,
     "metadata": {},
     "output_type": "execute_result"
    }
   ],
   "source": [
    "data_selection = data_selection.query(\"Sex_of_Driver != 3\")\n",
    "data_selection[\"Sex_of_Driver\"].value_counts()"
   ]
  },
  {
   "cell_type": "code",
   "execution_count": 108,
   "metadata": {},
   "outputs": [
    {
     "data": {
      "text/plain": [
       "-1     3484\n",
       " 18    2267\n",
       " 19    2082\n",
       " 20    2078\n",
       " 40    1914\n",
       "       ... \n",
       " 93       9\n",
       " 3        4\n",
       " 95       2\n",
       " 98       1\n",
       " 94       1\n",
       "Name: Age_of_Driver, Length: 95, dtype: int64"
      ]
     },
     "execution_count": 108,
     "metadata": {},
     "output_type": "execute_result"
    }
   ],
   "source": [
    "data_selection[\"Age_of_Driver\"].value_counts()  # skusim ich rovnomerne nahradit medianom, aby sme vyuzili, co sme sa naucili"
   ]
  },
  {
   "cell_type": "code",
   "execution_count": 34,
   "metadata": {},
   "outputs": [
    {
     "data": {
      "image/png": "[encoded data removed]",
      "text/plain": [
       "<Figure size 432x288 with 1 Axes>"
      ]
     },
     "metadata": {
      "needs_background": "light"
     },
     "output_type": "display_data"
    }
   ],
   "source": [
    "aod = data_selection[\"Age_of_Driver\"].hist()"
   ]
  },
  {
   "cell_type": "code",
   "execution_count": null,
   "metadata": {},
   "outputs": [],
   "source": [
    "# najpr si vypocitam min, max, median a mean hodnot bez -1"
   ]
  },
  {
   "cell_type": "code",
   "execution_count": 109,
   "metadata": {},
   "outputs": [
    {
     "data": {
      "text/html": [
       "<div>\n",
       "<style scoped>\n",
       "    .dataframe tbody tr th:only-of-type {\n",
       "        vertical-align: middle;\n",
       "    }\n",
       "\n",
       "    .dataframe tbody tr th {\n",
       "        vertical-align: top;\n",
       "    }\n",
       "\n",
       "    .dataframe thead tr th {\n",
       "        text-align: left;\n",
       "    }\n",
       "\n",
       "    .dataframe thead tr:last-of-type th {\n",
       "        text-align: right;\n",
       "    }\n",
       "</style>\n",
       "<table border=\"1\" class=\"dataframe\">\n",
       "  <thead>\n",
       "    <tr>\n",
       "      <th></th>\n",
       "      <th>median</th>\n",
       "      <th>mean</th>\n",
       "      <th>min</th>\n",
       "      <th>max</th>\n",
       "      <th>count</th>\n",
       "    </tr>\n",
       "    <tr>\n",
       "      <th></th>\n",
       "      <th>Age_of_Driver</th>\n",
       "      <th>Age_of_Driver</th>\n",
       "      <th>Age_of_Driver</th>\n",
       "      <th>Age_of_Driver</th>\n",
       "      <th>Age_of_Driver</th>\n",
       "    </tr>\n",
       "    <tr>\n",
       "      <th>Sex_of_Driver</th>\n",
       "      <th></th>\n",
       "      <th></th>\n",
       "      <th></th>\n",
       "      <th></th>\n",
       "      <th></th>\n",
       "    </tr>\n",
       "  </thead>\n",
       "  <tbody>\n",
       "    <tr>\n",
       "      <td>1</td>\n",
       "      <td>36</td>\n",
       "      <td>37.822037</td>\n",
       "      <td>3</td>\n",
       "      <td>95</td>\n",
       "      <td>51567</td>\n",
       "    </tr>\n",
       "    <tr>\n",
       "      <td>2</td>\n",
       "      <td>36</td>\n",
       "      <td>37.984249</td>\n",
       "      <td>4</td>\n",
       "      <td>98</td>\n",
       "      <td>17840</td>\n",
       "    </tr>\n",
       "    <tr>\n",
       "      <td>All</td>\n",
       "      <td>36</td>\n",
       "      <td>37.863731</td>\n",
       "      <td>3</td>\n",
       "      <td>98</td>\n",
       "      <td>69407</td>\n",
       "    </tr>\n",
       "  </tbody>\n",
       "</table>\n",
       "</div>"
      ],
      "text/plain": [
       "                     median          mean           min           max  \\\n",
       "              Age_of_Driver Age_of_Driver Age_of_Driver Age_of_Driver   \n",
       "Sex_of_Driver                                                           \n",
       "1                        36     37.822037             3            95   \n",
       "2                        36     37.984249             4            98   \n",
       "All                      36     37.863731             3            98   \n",
       "\n",
       "                      count  \n",
       "              Age_of_Driver  \n",
       "Sex_of_Driver                \n",
       "1                     51567  \n",
       "2                     17840  \n",
       "All                   69407  "
      ]
     },
     "execution_count": 109,
     "metadata": {},
     "output_type": "execute_result"
    }
   ],
   "source": [
    "pd.pivot_table(data_selection.query(\"Age_of_Driver != -1\"), index=[\"Sex_of_Driver\"], values=\"Age_of_Driver\", aggfunc=[\"median\", \"mean\", \"min\", \"max\", \"count\"], margins=True)\n",
    "# vypocitane hodnoty su takmer identicke pre zeny aj pre muzov"
   ]
  },
  {
   "cell_type": "code",
   "execution_count": 110,
   "metadata": {},
   "outputs": [
    {
     "name": "stdout",
     "output_type": "stream",
     "text": [
      "Age_of_Driver mean: 37.8637, median: 36.0000\n"
     ]
    }
   ],
   "source": [
    "# vypočítame si strednú hodnotu a medián\n",
    "Age_of_Driver_mean = (data_selection.query(\"Age_of_Driver != -1\"))[\"Age_of_Driver\"].mean()\n",
    "Age_of_Driver_median = (data_selection.query(\"Age_of_Driver != -1\"))[\"Age_of_Driver\"].median()\n",
    "print(\"Age_of_Driver mean: {0:.4f}, median: {1:.4f}\".format(Age_of_Driver_mean, Age_of_Driver_median))"
   ]
  },
  {
   "cell_type": "code",
   "execution_count": 111,
   "metadata": {},
   "outputs": [
    {
     "data": {
      "image/png": "[encoded data removed]",
      "text/plain": [
       "<Figure size 432x288 with 1 Axes>"
      ]
     },
     "metadata": {},
     "output_type": "display_data"
    }
   ],
   "source": [
    "# hodnoty -1 nahradíme mediánom, ktorý bude asi lepšie charakterizovat najčastejšie sa vyskytujúce hodnoty\n",
    "data_selection[\"Age_of_Driver\"] = data_selection[\"Age_of_Driver\"].replace(-1, Age_of_Driver_median)\n",
    "aod = data_selection[\"Age_of_Driver\"].hist(bins=12)"
   ]
  },
  {
   "cell_type": "code",
   "execution_count": 112,
   "metadata": {},
   "outputs": [
    {
     "data": {
      "text/plain": [
       "36    5059\n",
       "18    2267\n",
       "19    2082\n",
       "20    2078\n",
       "40    1914\n",
       "      ... \n",
       "93       9\n",
       "3        4\n",
       "95       2\n",
       "98       1\n",
       "94       1\n",
       "Name: Age_of_Driver, Length: 94, dtype: int64"
      ]
     },
     "execution_count": 112,
     "metadata": {},
     "output_type": "execute_result"
    }
   ],
   "source": [
    "data_selection[\"Age_of_Driver\"].value_counts() # este skontrolujem"
   ]
  },
  {
   "cell_type": "code",
   "execution_count": 113,
   "metadata": {},
   "outputs": [
    {
     "data": {
      "text/plain": [
       "-1        21124\n",
       " 1598      2136\n",
       " 1998      2035\n",
       " 1796      1826\n",
       " 1242      1281\n",
       "          ...  \n",
       " 3185         1\n",
       " 1712         1\n",
       " 653          1\n",
       " 12880        1\n",
       " 5960         1\n",
       "Name: Engine_Capacity_(CC), Length: 959, dtype: int64"
      ]
     },
     "execution_count": 113,
     "metadata": {},
     "output_type": "execute_result"
    }
   ],
   "source": [
    "data_selection[\"Engine_Capacity_(CC)\"].value_counts()    # tento atribut najskor vynecham"
   ]
  },
  {
   "cell_type": "code",
   "execution_count": 40,
   "metadata": {},
   "outputs": [
    {
     "data": {
      "image/png": "[encoded data removed]",
      "text/plain": [
       "<Figure size 432x288 with 1 Axes>"
      ]
     },
     "metadata": {
      "needs_background": "light"
     },
     "output_type": "display_data"
    }
   ],
   "source": [
    "ec = data_selection[\"Engine_Capacity_(CC)\"].hist(bins=50)"
   ]
  },
  {
   "cell_type": "code",
   "execution_count": 315,
   "metadata": {},
   "outputs": [],
   "source": [
    "# atribut Engine_Capacity_(CC)ma cca 30% hodnot -1, ostatne su velmi blizke hodnoty...mozno by sa tento atribut mohol aj vynechat"
   ]
  },
  {
   "cell_type": "code",
   "execution_count": 114,
   "metadata": {},
   "outputs": [
    {
     "data": {
      "text/plain": [
       "-1     23464\n",
       " 1      4898\n",
       " 2      4895\n",
       " 3      4675\n",
       " 4      4423\n",
       " 5      4181\n",
       " 6      3927\n",
       " 7      3742\n",
       " 8      3388\n",
       " 9      3132\n",
       " 10     2881\n",
       " 11     2409\n",
       " 12     1903\n",
       " 13     1349\n",
       " 14     1024\n",
       " 15      827\n",
       " 16      608\n",
       " 17      398\n",
       " 18      238\n",
       " 19      125\n",
       " 20      101\n",
       " 21       72\n",
       " 22       44\n",
       " 24       41\n",
       " 23       33\n",
       " 25       29\n",
       " 26       17\n",
       " 28       12\n",
       " 27        9\n",
       " 30        8\n",
       " 29        6\n",
       " 39        5\n",
       " 40        4\n",
       " 33        3\n",
       " 34        3\n",
       " 37        3\n",
       " 38        3\n",
       " 42        2\n",
       " 35        2\n",
       " 36        2\n",
       " 71        1\n",
       " 47        1\n",
       " 31        1\n",
       " 32        1\n",
       " 84        1\n",
       "Name: Age_of_Vehicle, dtype: int64"
      ]
     },
     "execution_count": 114,
     "metadata": {},
     "output_type": "execute_result"
    }
   ],
   "source": [
    "data_selection[\"Age_of_Vehicle\"].value_counts()    # tento atribut tiez najskor vynecham"
   ]
  },
  {
   "cell_type": "code",
   "execution_count": 42,
   "metadata": {},
   "outputs": [
    {
     "data": {
      "image/png": "[encoded data removed]",
      "text/plain": [
       "<Figure size 432x288 with 1 Axes>"
      ]
     },
     "metadata": {
      "needs_background": "light"
     },
     "output_type": "display_data"
    }
   ],
   "source": [
    "aov = data_selection[\"Age_of_Vehicle\"].hist(bins=50)"
   ]
  },
  {
   "cell_type": "code",
   "execution_count": 115,
   "metadata": {},
   "outputs": [
    {
     "data": {
      "text/plain": [
       "Day_of_Week                0\n",
       "1st_Road_Class             0\n",
       "Road_Type                  0\n",
       "Light_Conditions           0\n",
       "Weather_Conditions         0\n",
       "Road_Surface_Conditions    0\n",
       "Urban_or_Rural_Area        0\n",
       "Vehicle_Type               0\n",
       "Sex_of_Driver              0\n",
       "Age_of_Driver              0\n",
       "Engine_Capacity_(CC)       0\n",
       "Age_of_Vehicle             0\n",
       "Accident_Severity          0\n",
       "dtype: int64"
      ]
     },
     "execution_count": 115,
     "metadata": {},
     "output_type": "execute_result"
    }
   ],
   "source": [
    "data_selection.isna().sum()     # ci existuju prazdne - nevyplnene polozky"
   ]
  },
  {
   "cell_type": "code",
   "execution_count": null,
   "metadata": {},
   "outputs": [],
   "source": [
    "# prazdne polozky neexistuju"
   ]
  },
  {
   "cell_type": "code",
   "execution_count": 116,
   "metadata": {},
   "outputs": [
    {
     "name": "stdout",
     "output_type": "stream",
     "text": [
      "13\n",
      "72891\n"
     ]
    },
    {
     "data": {
      "text/html": [
       "<div>\n",
       "<style scoped>\n",
       "    .dataframe tbody tr th:only-of-type {\n",
       "        vertical-align: middle;\n",
       "    }\n",
       "\n",
       "    .dataframe tbody tr th {\n",
       "        vertical-align: top;\n",
       "    }\n",
       "\n",
       "    .dataframe thead th {\n",
       "        text-align: right;\n",
       "    }\n",
       "</style>\n",
       "<table border=\"1\" class=\"dataframe\">\n",
       "  <thead>\n",
       "    <tr style=\"text-align: right;\">\n",
       "      <th></th>\n",
       "      <th>Day_of_Week</th>\n",
       "      <th>1st_Road_Class</th>\n",
       "      <th>Road_Type</th>\n",
       "      <th>Light_Conditions</th>\n",
       "      <th>Weather_Conditions</th>\n",
       "      <th>Road_Surface_Conditions</th>\n",
       "      <th>Urban_or_Rural_Area</th>\n",
       "      <th>Vehicle_Type</th>\n",
       "      <th>Sex_of_Driver</th>\n",
       "      <th>Age_of_Driver</th>\n",
       "      <th>Engine_Capacity_(CC)</th>\n",
       "      <th>Age_of_Vehicle</th>\n",
       "      <th>Accident_Severity</th>\n",
       "    </tr>\n",
       "  </thead>\n",
       "  <tbody>\n",
       "    <tr>\n",
       "      <td>0</td>\n",
       "      <td>4</td>\n",
       "      <td>3</td>\n",
       "      <td>2</td>\n",
       "      <td>1</td>\n",
       "      <td>1</td>\n",
       "      <td>1</td>\n",
       "      <td>1</td>\n",
       "      <td>2</td>\n",
       "      <td>1</td>\n",
       "      <td>40</td>\n",
       "      <td>984</td>\n",
       "      <td>-1</td>\n",
       "      <td>1</td>\n",
       "    </tr>\n",
       "    <tr>\n",
       "      <td>1</td>\n",
       "      <td>4</td>\n",
       "      <td>3</td>\n",
       "      <td>2</td>\n",
       "      <td>1</td>\n",
       "      <td>1</td>\n",
       "      <td>1</td>\n",
       "      <td>1</td>\n",
       "      <td>1</td>\n",
       "      <td>1</td>\n",
       "      <td>20</td>\n",
       "      <td>-1</td>\n",
       "      <td>-1</td>\n",
       "      <td>1</td>\n",
       "    </tr>\n",
       "    <tr>\n",
       "      <td>2</td>\n",
       "      <td>4</td>\n",
       "      <td>5</td>\n",
       "      <td>6</td>\n",
       "      <td>1</td>\n",
       "      <td>1</td>\n",
       "      <td>1</td>\n",
       "      <td>1</td>\n",
       "      <td>11</td>\n",
       "      <td>1</td>\n",
       "      <td>59</td>\n",
       "      <td>9600</td>\n",
       "      <td>5</td>\n",
       "      <td>1</td>\n",
       "    </tr>\n",
       "    <tr>\n",
       "      <td>3</td>\n",
       "      <td>5</td>\n",
       "      <td>4</td>\n",
       "      <td>6</td>\n",
       "      <td>1</td>\n",
       "      <td>1</td>\n",
       "      <td>2</td>\n",
       "      <td>1</td>\n",
       "      <td>1</td>\n",
       "      <td>1</td>\n",
       "      <td>25</td>\n",
       "      <td>-1</td>\n",
       "      <td>-1</td>\n",
       "      <td>1</td>\n",
       "    </tr>\n",
       "    <tr>\n",
       "      <td>4</td>\n",
       "      <td>5</td>\n",
       "      <td>4</td>\n",
       "      <td>6</td>\n",
       "      <td>1</td>\n",
       "      <td>1</td>\n",
       "      <td>2</td>\n",
       "      <td>1</td>\n",
       "      <td>9</td>\n",
       "      <td>1</td>\n",
       "      <td>29</td>\n",
       "      <td>1596</td>\n",
       "      <td>3</td>\n",
       "      <td>1</td>\n",
       "    </tr>\n",
       "  </tbody>\n",
       "</table>\n",
       "</div>"
      ],
      "text/plain": [
       "   Day_of_Week  1st_Road_Class  Road_Type  Light_Conditions  \\\n",
       "0            4               3          2                 1   \n",
       "1            4               3          2                 1   \n",
       "2            4               5          6                 1   \n",
       "3            5               4          6                 1   \n",
       "4            5               4          6                 1   \n",
       "\n",
       "   Weather_Conditions  Road_Surface_Conditions  Urban_or_Rural_Area  \\\n",
       "0                   1                        1                    1   \n",
       "1                   1                        1                    1   \n",
       "2                   1                        1                    1   \n",
       "3                   1                        2                    1   \n",
       "4                   1                        2                    1   \n",
       "\n",
       "   Vehicle_Type  Sex_of_Driver  Age_of_Driver  Engine_Capacity_(CC)  \\\n",
       "0             2              1             40                   984   \n",
       "1             1              1             20                    -1   \n",
       "2            11              1             59                  9600   \n",
       "3             1              1             25                    -1   \n",
       "4             9              1             29                  1596   \n",
       "\n",
       "   Age_of_Vehicle  Accident_Severity  \n",
       "0              -1                  1  \n",
       "1              -1                  1  \n",
       "2               5                  1  \n",
       "3              -1                  1  \n",
       "4               3                  1  "
      ]
     },
     "execution_count": 116,
     "metadata": {},
     "output_type": "execute_result"
    }
   ],
   "source": [
    "print(data_selection.shape[1])\n",
    "print(data_selection.shape[0])\n",
    "data_selection.head() "
   ]
  },
  {
   "cell_type": "markdown",
   "metadata": {},
   "source": [
    "7. Pomocou konfigenčnej tabuľky vyjadrite závislosti medzi nasledujúcimi atribútmi a cieľovým atribútom `Accident_Severity`:\n",
    "* `Day_of_Week` \n",
    "* `Sex_of_Driver`\n",
    "* `Age_of_Driver` (nutné vhodne diskretizovať tento atribút)\n",
    "\n",
    "Použite niektorú z vizualizácií knižnice seaborn na grafické zobrazenie týchto vzťahov. (5b)"
   ]
  },
  {
   "cell_type": "code",
   "execution_count": 117,
   "metadata": {},
   "outputs": [
    {
     "name": "stdout",
     "output_type": "stream",
     "text": [
      "10\n",
      "72891\n"
     ]
    },
    {
     "data": {
      "text/html": [
       "<div>\n",
       "<style scoped>\n",
       "    .dataframe tbody tr th:only-of-type {\n",
       "        vertical-align: middle;\n",
       "    }\n",
       "\n",
       "    .dataframe tbody tr th {\n",
       "        vertical-align: top;\n",
       "    }\n",
       "\n",
       "    .dataframe thead th {\n",
       "        text-align: right;\n",
       "    }\n",
       "</style>\n",
       "<table border=\"1\" class=\"dataframe\">\n",
       "  <thead>\n",
       "    <tr style=\"text-align: right;\">\n",
       "      <th></th>\n",
       "      <th>Day_of_Week</th>\n",
       "      <th>Road_Type</th>\n",
       "      <th>Light_Conditions</th>\n",
       "      <th>Weather_Conditions</th>\n",
       "      <th>Road_Surface_Conditions</th>\n",
       "      <th>Urban_or_Rural_Area</th>\n",
       "      <th>Vehicle_Type</th>\n",
       "      <th>Sex_of_Driver</th>\n",
       "      <th>Age_of_Driver</th>\n",
       "      <th>Accident_Severity</th>\n",
       "    </tr>\n",
       "  </thead>\n",
       "  <tbody>\n",
       "    <tr>\n",
       "      <td>0</td>\n",
       "      <td>4</td>\n",
       "      <td>2</td>\n",
       "      <td>1</td>\n",
       "      <td>1</td>\n",
       "      <td>1</td>\n",
       "      <td>1</td>\n",
       "      <td>2</td>\n",
       "      <td>1</td>\n",
       "      <td>40</td>\n",
       "      <td>1</td>\n",
       "    </tr>\n",
       "    <tr>\n",
       "      <td>1</td>\n",
       "      <td>4</td>\n",
       "      <td>2</td>\n",
       "      <td>1</td>\n",
       "      <td>1</td>\n",
       "      <td>1</td>\n",
       "      <td>1</td>\n",
       "      <td>1</td>\n",
       "      <td>1</td>\n",
       "      <td>20</td>\n",
       "      <td>1</td>\n",
       "    </tr>\n",
       "    <tr>\n",
       "      <td>2</td>\n",
       "      <td>4</td>\n",
       "      <td>6</td>\n",
       "      <td>1</td>\n",
       "      <td>1</td>\n",
       "      <td>1</td>\n",
       "      <td>1</td>\n",
       "      <td>11</td>\n",
       "      <td>1</td>\n",
       "      <td>59</td>\n",
       "      <td>1</td>\n",
       "    </tr>\n",
       "    <tr>\n",
       "      <td>3</td>\n",
       "      <td>5</td>\n",
       "      <td>6</td>\n",
       "      <td>1</td>\n",
       "      <td>1</td>\n",
       "      <td>2</td>\n",
       "      <td>1</td>\n",
       "      <td>1</td>\n",
       "      <td>1</td>\n",
       "      <td>25</td>\n",
       "      <td>1</td>\n",
       "    </tr>\n",
       "    <tr>\n",
       "      <td>4</td>\n",
       "      <td>5</td>\n",
       "      <td>6</td>\n",
       "      <td>1</td>\n",
       "      <td>1</td>\n",
       "      <td>2</td>\n",
       "      <td>1</td>\n",
       "      <td>9</td>\n",
       "      <td>1</td>\n",
       "      <td>29</td>\n",
       "      <td>1</td>\n",
       "    </tr>\n",
       "  </tbody>\n",
       "</table>\n",
       "</div>"
      ],
      "text/plain": [
       "   Day_of_Week  Road_Type  Light_Conditions  Weather_Conditions  \\\n",
       "0            4          2                 1                   1   \n",
       "1            4          2                 1                   1   \n",
       "2            4          6                 1                   1   \n",
       "3            5          6                 1                   1   \n",
       "4            5          6                 1                   1   \n",
       "\n",
       "   Road_Surface_Conditions  Urban_or_Rural_Area  Vehicle_Type  Sex_of_Driver  \\\n",
       "0                        1                    1             2              1   \n",
       "1                        1                    1             1              1   \n",
       "2                        1                    1            11              1   \n",
       "3                        2                    1             1              1   \n",
       "4                        2                    1             9              1   \n",
       "\n",
       "   Age_of_Driver  Accident_Severity  \n",
       "0             40                  1  \n",
       "1             20                  1  \n",
       "2             59                  1  \n",
       "3             25                  1  \n",
       "4             29                  1  "
      ]
     },
     "execution_count": 117,
     "metadata": {},
     "output_type": "execute_result"
    }
   ],
   "source": [
    "data_selection.drop(columns=[\"1st_Road_Class\", \"Engine_Capacity_(CC)\", \"Age_of_Vehicle\"], inplace=True) # odstránim stĺpce, ktore si myslim nemaju vaznost pre vysledky kvoli chybajucemu vysokemu poctu dat\n",
    "print(data_selection.shape[1])\n",
    "print(data_selection.shape[0])\n",
    "data_selection.head() "
   ]
  },
  {
   "cell_type": "code",
   "execution_count": 118,
   "metadata": {},
   "outputs": [
    {
     "data": {
      "text/plain": [
       "count    72891.000000\n",
       "mean        37.774650\n",
       "std         15.425893\n",
       "min          3.000000\n",
       "25%         25.000000\n",
       "50%         36.000000\n",
       "75%         47.000000\n",
       "max         98.000000\n",
       "Name: Age_of_Driver, dtype: float64"
      ]
     },
     "execution_count": 118,
     "metadata": {},
     "output_type": "execute_result"
    }
   ],
   "source": [
    "data_selection[\"Age_of_Driver\"].describe()"
   ]
  },
  {
   "cell_type": "code",
   "execution_count": 119,
   "metadata": {},
   "outputs": [
    {
     "data": {
      "text/plain": [
       "adult       39649\n",
       "young       17582\n",
       "old         11967\n",
       "very_old     2651\n",
       "child        1042\n",
       "Name: Age_of_Driver_Ordinal, dtype: int64"
      ]
     },
     "execution_count": 119,
     "metadata": {},
     "output_type": "execute_result"
    }
   ],
   "source": [
    "max_age = data_selection[\"Age_of_Driver\"].max()\n",
    "data_selection[\"Age_of_Driver_Ordinal\"] = pd.cut(data_selection[\"Age_of_Driver\"], bins=[0, 15, 25, 50, 70, max_age], include_lowest=True, labels=[\"child\", \"young\", \"adult\", \"old\", \"very_old\"])\n",
    "data_selection[\"Age_of_Driver_Ordinal\"].value_counts()"
   ]
  },
  {
   "cell_type": "code",
   "execution_count": 48,
   "metadata": {},
   "outputs": [
    {
     "name": "stdout",
     "output_type": "stream",
     "text": [
      "11\n",
      "72891\n"
     ]
    },
    {
     "data": {
      "text/html": [
       "<div>\n",
       "<style scoped>\n",
       "    .dataframe tbody tr th:only-of-type {\n",
       "        vertical-align: middle;\n",
       "    }\n",
       "\n",
       "    .dataframe tbody tr th {\n",
       "        vertical-align: top;\n",
       "    }\n",
       "\n",
       "    .dataframe thead th {\n",
       "        text-align: right;\n",
       "    }\n",
       "</style>\n",
       "<table border=\"1\" class=\"dataframe\">\n",
       "  <thead>\n",
       "    <tr style=\"text-align: right;\">\n",
       "      <th></th>\n",
       "      <th>Day_of_Week</th>\n",
       "      <th>Road_Type</th>\n",
       "      <th>Light_Conditions</th>\n",
       "      <th>Weather_Conditions</th>\n",
       "      <th>Road_Surface_Conditions</th>\n",
       "      <th>Urban_or_Rural_Area</th>\n",
       "      <th>Vehicle_Type</th>\n",
       "      <th>Sex_of_Driver</th>\n",
       "      <th>Age_of_Driver</th>\n",
       "      <th>Accident_Severity</th>\n",
       "      <th>Age_of_Driver_Ordinal</th>\n",
       "    </tr>\n",
       "  </thead>\n",
       "  <tbody>\n",
       "    <tr>\n",
       "      <td>0</td>\n",
       "      <td>4</td>\n",
       "      <td>2</td>\n",
       "      <td>1</td>\n",
       "      <td>1</td>\n",
       "      <td>1</td>\n",
       "      <td>1</td>\n",
       "      <td>2</td>\n",
       "      <td>1</td>\n",
       "      <td>40</td>\n",
       "      <td>1</td>\n",
       "      <td>adult</td>\n",
       "    </tr>\n",
       "    <tr>\n",
       "      <td>1</td>\n",
       "      <td>4</td>\n",
       "      <td>2</td>\n",
       "      <td>1</td>\n",
       "      <td>1</td>\n",
       "      <td>1</td>\n",
       "      <td>1</td>\n",
       "      <td>1</td>\n",
       "      <td>1</td>\n",
       "      <td>20</td>\n",
       "      <td>1</td>\n",
       "      <td>young</td>\n",
       "    </tr>\n",
       "    <tr>\n",
       "      <td>2</td>\n",
       "      <td>4</td>\n",
       "      <td>6</td>\n",
       "      <td>1</td>\n",
       "      <td>1</td>\n",
       "      <td>1</td>\n",
       "      <td>1</td>\n",
       "      <td>11</td>\n",
       "      <td>1</td>\n",
       "      <td>59</td>\n",
       "      <td>1</td>\n",
       "      <td>old</td>\n",
       "    </tr>\n",
       "    <tr>\n",
       "      <td>3</td>\n",
       "      <td>5</td>\n",
       "      <td>6</td>\n",
       "      <td>1</td>\n",
       "      <td>1</td>\n",
       "      <td>2</td>\n",
       "      <td>1</td>\n",
       "      <td>1</td>\n",
       "      <td>1</td>\n",
       "      <td>25</td>\n",
       "      <td>1</td>\n",
       "      <td>young</td>\n",
       "    </tr>\n",
       "    <tr>\n",
       "      <td>4</td>\n",
       "      <td>5</td>\n",
       "      <td>6</td>\n",
       "      <td>1</td>\n",
       "      <td>1</td>\n",
       "      <td>2</td>\n",
       "      <td>1</td>\n",
       "      <td>9</td>\n",
       "      <td>1</td>\n",
       "      <td>29</td>\n",
       "      <td>1</td>\n",
       "      <td>adult</td>\n",
       "    </tr>\n",
       "  </tbody>\n",
       "</table>\n",
       "</div>"
      ],
      "text/plain": [
       "   Day_of_Week  Road_Type  Light_Conditions  Weather_Conditions  \\\n",
       "0            4          2                 1                   1   \n",
       "1            4          2                 1                   1   \n",
       "2            4          6                 1                   1   \n",
       "3            5          6                 1                   1   \n",
       "4            5          6                 1                   1   \n",
       "\n",
       "   Road_Surface_Conditions  Urban_or_Rural_Area  Vehicle_Type  Sex_of_Driver  \\\n",
       "0                        1                    1             2              1   \n",
       "1                        1                    1             1              1   \n",
       "2                        1                    1            11              1   \n",
       "3                        2                    1             1              1   \n",
       "4                        2                    1             9              1   \n",
       "\n",
       "   Age_of_Driver  Accident_Severity Age_of_Driver_Ordinal  \n",
       "0             40                  1                 adult  \n",
       "1             20                  1                 young  \n",
       "2             59                  1                   old  \n",
       "3             25                  1                 young  \n",
       "4             29                  1                 adult  "
      ]
     },
     "execution_count": 48,
     "metadata": {},
     "output_type": "execute_result"
    }
   ],
   "source": [
    "print(data_selection.shape[1])\n",
    "print(data_selection.shape[0])\n",
    "data_selection.head()    # Age_of_Driver_Ordinal je v databaze na konci"
   ]
  },
  {
   "cell_type": "code",
   "execution_count": 120,
   "metadata": {},
   "outputs": [
    {
     "data": {
      "text/html": [
       "<div>\n",
       "<style scoped>\n",
       "    .dataframe tbody tr th:only-of-type {\n",
       "        vertical-align: middle;\n",
       "    }\n",
       "\n",
       "    .dataframe tbody tr th {\n",
       "        vertical-align: top;\n",
       "    }\n",
       "\n",
       "    .dataframe thead tr th {\n",
       "        text-align: left;\n",
       "    }\n",
       "\n",
       "    .dataframe thead tr:last-of-type th {\n",
       "        text-align: right;\n",
       "    }\n",
       "</style>\n",
       "<table border=\"1\" class=\"dataframe\">\n",
       "  <thead>\n",
       "    <tr>\n",
       "      <th></th>\n",
       "      <th></th>\n",
       "      <th></th>\n",
       "      <th>median</th>\n",
       "      <th>mean</th>\n",
       "      <th>min</th>\n",
       "      <th>max</th>\n",
       "      <th>count</th>\n",
       "    </tr>\n",
       "    <tr>\n",
       "      <th></th>\n",
       "      <th></th>\n",
       "      <th></th>\n",
       "      <th>Age_of_Driver</th>\n",
       "      <th>Age_of_Driver</th>\n",
       "      <th>Age_of_Driver</th>\n",
       "      <th>Age_of_Driver</th>\n",
       "      <th>Age_of_Driver</th>\n",
       "    </tr>\n",
       "    <tr>\n",
       "      <th>Day_of_Week</th>\n",
       "      <th>Sex_of_Driver</th>\n",
       "      <th>Accident_Severity</th>\n",
       "      <th></th>\n",
       "      <th></th>\n",
       "      <th></th>\n",
       "      <th></th>\n",
       "      <th></th>\n",
       "    </tr>\n",
       "  </thead>\n",
       "  <tbody>\n",
       "    <tr>\n",
       "      <td rowspan=\"6\" valign=\"top\">1</td>\n",
       "      <td rowspan=\"3\" valign=\"top\">1</td>\n",
       "      <td>1</td>\n",
       "      <td>36.0</td>\n",
       "      <td>38.485226</td>\n",
       "      <td>9</td>\n",
       "      <td>88</td>\n",
       "      <td>643</td>\n",
       "    </tr>\n",
       "    <tr>\n",
       "      <td>2</td>\n",
       "      <td>36.0</td>\n",
       "      <td>36.838669</td>\n",
       "      <td>6</td>\n",
       "      <td>92</td>\n",
       "      <td>3936</td>\n",
       "    </tr>\n",
       "    <tr>\n",
       "      <td>3</td>\n",
       "      <td>34.0</td>\n",
       "      <td>35.794647</td>\n",
       "      <td>8</td>\n",
       "      <td>91</td>\n",
       "      <td>2279</td>\n",
       "    </tr>\n",
       "    <tr>\n",
       "      <td rowspan=\"3\" valign=\"top\">2</td>\n",
       "      <td>1</td>\n",
       "      <td>36.0</td>\n",
       "      <td>39.422680</td>\n",
       "      <td>18</td>\n",
       "      <td>85</td>\n",
       "      <td>97</td>\n",
       "    </tr>\n",
       "    <tr>\n",
       "      <td>2</td>\n",
       "      <td>36.0</td>\n",
       "      <td>38.141051</td>\n",
       "      <td>7</td>\n",
       "      <td>90</td>\n",
       "      <td>1028</td>\n",
       "    </tr>\n",
       "    <tr>\n",
       "      <td>3</td>\n",
       "      <td>34.0</td>\n",
       "      <td>35.543767</td>\n",
       "      <td>6</td>\n",
       "      <td>84</td>\n",
       "      <td>754</td>\n",
       "    </tr>\n",
       "    <tr>\n",
       "      <td rowspan=\"6\" valign=\"top\">2</td>\n",
       "      <td rowspan=\"3\" valign=\"top\">1</td>\n",
       "      <td>1</td>\n",
       "      <td>37.0</td>\n",
       "      <td>40.055351</td>\n",
       "      <td>11</td>\n",
       "      <td>90</td>\n",
       "      <td>542</td>\n",
       "    </tr>\n",
       "    <tr>\n",
       "      <td>2</td>\n",
       "      <td>36.0</td>\n",
       "      <td>38.300769</td>\n",
       "      <td>5</td>\n",
       "      <td>95</td>\n",
       "      <td>4033</td>\n",
       "    </tr>\n",
       "    <tr>\n",
       "      <td>3</td>\n",
       "      <td>36.0</td>\n",
       "      <td>38.316602</td>\n",
       "      <td>3</td>\n",
       "      <td>93</td>\n",
       "      <td>2849</td>\n",
       "    </tr>\n",
       "    <tr>\n",
       "      <td rowspan=\"3\" valign=\"top\">2</td>\n",
       "      <td>1</td>\n",
       "      <td>41.0</td>\n",
       "      <td>44.518182</td>\n",
       "      <td>18</td>\n",
       "      <td>88</td>\n",
       "      <td>110</td>\n",
       "    </tr>\n",
       "    <tr>\n",
       "      <td>2</td>\n",
       "      <td>36.0</td>\n",
       "      <td>38.582931</td>\n",
       "      <td>7</td>\n",
       "      <td>87</td>\n",
       "      <td>1242</td>\n",
       "    </tr>\n",
       "    <tr>\n",
       "      <td>3</td>\n",
       "      <td>36.0</td>\n",
       "      <td>36.927765</td>\n",
       "      <td>4</td>\n",
       "      <td>91</td>\n",
       "      <td>1329</td>\n",
       "    </tr>\n",
       "    <tr>\n",
       "      <td rowspan=\"6\" valign=\"top\">3</td>\n",
       "      <td rowspan=\"3\" valign=\"top\">1</td>\n",
       "      <td>1</td>\n",
       "      <td>38.0</td>\n",
       "      <td>40.764486</td>\n",
       "      <td>14</td>\n",
       "      <td>95</td>\n",
       "      <td>535</td>\n",
       "    </tr>\n",
       "    <tr>\n",
       "      <td>2</td>\n",
       "      <td>36.0</td>\n",
       "      <td>37.982343</td>\n",
       "      <td>3</td>\n",
       "      <td>92</td>\n",
       "      <td>4191</td>\n",
       "    </tr>\n",
       "    <tr>\n",
       "      <td>3</td>\n",
       "      <td>36.0</td>\n",
       "      <td>37.606704</td>\n",
       "      <td>6</td>\n",
       "      <td>90</td>\n",
       "      <td>3013</td>\n",
       "    </tr>\n",
       "    <tr>\n",
       "      <td rowspan=\"3\" valign=\"top\">2</td>\n",
       "      <td>1</td>\n",
       "      <td>36.0</td>\n",
       "      <td>38.072165</td>\n",
       "      <td>16</td>\n",
       "      <td>81</td>\n",
       "      <td>97</td>\n",
       "    </tr>\n",
       "    <tr>\n",
       "      <td>2</td>\n",
       "      <td>36.0</td>\n",
       "      <td>38.281818</td>\n",
       "      <td>7</td>\n",
       "      <td>87</td>\n",
       "      <td>1320</td>\n",
       "    </tr>\n",
       "    <tr>\n",
       "      <td>3</td>\n",
       "      <td>36.0</td>\n",
       "      <td>37.199712</td>\n",
       "      <td>12</td>\n",
       "      <td>90</td>\n",
       "      <td>1387</td>\n",
       "    </tr>\n",
       "    <tr>\n",
       "      <td rowspan=\"6\" valign=\"top\">4</td>\n",
       "      <td rowspan=\"3\" valign=\"top\">1</td>\n",
       "      <td>1</td>\n",
       "      <td>37.0</td>\n",
       "      <td>39.679612</td>\n",
       "      <td>9</td>\n",
       "      <td>89</td>\n",
       "      <td>515</td>\n",
       "    </tr>\n",
       "    <tr>\n",
       "      <td>2</td>\n",
       "      <td>36.0</td>\n",
       "      <td>38.149064</td>\n",
       "      <td>6</td>\n",
       "      <td>93</td>\n",
       "      <td>4166</td>\n",
       "    </tr>\n",
       "    <tr>\n",
       "      <td>3</td>\n",
       "      <td>36.0</td>\n",
       "      <td>37.915282</td>\n",
       "      <td>8</td>\n",
       "      <td>92</td>\n",
       "      <td>3010</td>\n",
       "    </tr>\n",
       "    <tr>\n",
       "      <td rowspan=\"3\" valign=\"top\">2</td>\n",
       "      <td>1</td>\n",
       "      <td>36.0</td>\n",
       "      <td>39.429577</td>\n",
       "      <td>17</td>\n",
       "      <td>82</td>\n",
       "      <td>142</td>\n",
       "    </tr>\n",
       "    <tr>\n",
       "      <td>2</td>\n",
       "      <td>36.0</td>\n",
       "      <td>38.468165</td>\n",
       "      <td>7</td>\n",
       "      <td>85</td>\n",
       "      <td>1335</td>\n",
       "    </tr>\n",
       "    <tr>\n",
       "      <td>3</td>\n",
       "      <td>36.0</td>\n",
       "      <td>37.574087</td>\n",
       "      <td>7</td>\n",
       "      <td>98</td>\n",
       "      <td>1451</td>\n",
       "    </tr>\n",
       "    <tr>\n",
       "      <td rowspan=\"6\" valign=\"top\">5</td>\n",
       "      <td rowspan=\"3\" valign=\"top\">1</td>\n",
       "      <td>1</td>\n",
       "      <td>39.0</td>\n",
       "      <td>40.752874</td>\n",
       "      <td>8</td>\n",
       "      <td>91</td>\n",
       "      <td>522</td>\n",
       "    </tr>\n",
       "    <tr>\n",
       "      <td>2</td>\n",
       "      <td>36.0</td>\n",
       "      <td>37.919597</td>\n",
       "      <td>3</td>\n",
       "      <td>92</td>\n",
       "      <td>4266</td>\n",
       "    </tr>\n",
       "    <tr>\n",
       "      <td>3</td>\n",
       "      <td>36.0</td>\n",
       "      <td>38.027152</td>\n",
       "      <td>5</td>\n",
       "      <td>90</td>\n",
       "      <td>3020</td>\n",
       "    </tr>\n",
       "    <tr>\n",
       "      <td rowspan=\"3\" valign=\"top\">2</td>\n",
       "      <td>1</td>\n",
       "      <td>39.5</td>\n",
       "      <td>42.351852</td>\n",
       "      <td>17</td>\n",
       "      <td>92</td>\n",
       "      <td>108</td>\n",
       "    </tr>\n",
       "    <tr>\n",
       "      <td>2</td>\n",
       "      <td>38.0</td>\n",
       "      <td>39.768773</td>\n",
       "      <td>5</td>\n",
       "      <td>93</td>\n",
       "      <td>1345</td>\n",
       "    </tr>\n",
       "    <tr>\n",
       "      <td>3</td>\n",
       "      <td>36.0</td>\n",
       "      <td>37.230329</td>\n",
       "      <td>8</td>\n",
       "      <td>86</td>\n",
       "      <td>1398</td>\n",
       "    </tr>\n",
       "    <tr>\n",
       "      <td rowspan=\"6\" valign=\"top\">6</td>\n",
       "      <td rowspan=\"3\" valign=\"top\">1</td>\n",
       "      <td>1</td>\n",
       "      <td>38.0</td>\n",
       "      <td>40.255486</td>\n",
       "      <td>10</td>\n",
       "      <td>94</td>\n",
       "      <td>638</td>\n",
       "    </tr>\n",
       "    <tr>\n",
       "      <td>2</td>\n",
       "      <td>36.0</td>\n",
       "      <td>37.414013</td>\n",
       "      <td>4</td>\n",
       "      <td>93</td>\n",
       "      <td>4867</td>\n",
       "    </tr>\n",
       "    <tr>\n",
       "      <td>3</td>\n",
       "      <td>36.0</td>\n",
       "      <td>37.801552</td>\n",
       "      <td>6</td>\n",
       "      <td>93</td>\n",
       "      <td>3351</td>\n",
       "    </tr>\n",
       "    <tr>\n",
       "      <td rowspan=\"3\" valign=\"top\">2</td>\n",
       "      <td>1</td>\n",
       "      <td>39.0</td>\n",
       "      <td>42.549550</td>\n",
       "      <td>14</td>\n",
       "      <td>91</td>\n",
       "      <td>111</td>\n",
       "    </tr>\n",
       "    <tr>\n",
       "      <td>2</td>\n",
       "      <td>36.0</td>\n",
       "      <td>38.562670</td>\n",
       "      <td>6</td>\n",
       "      <td>92</td>\n",
       "      <td>1468</td>\n",
       "    </tr>\n",
       "    <tr>\n",
       "      <td>3</td>\n",
       "      <td>35.0</td>\n",
       "      <td>36.867388</td>\n",
       "      <td>6</td>\n",
       "      <td>92</td>\n",
       "      <td>1478</td>\n",
       "    </tr>\n",
       "    <tr>\n",
       "      <td rowspan=\"6\" valign=\"top\">7</td>\n",
       "      <td rowspan=\"3\" valign=\"top\">1</td>\n",
       "      <td>1</td>\n",
       "      <td>35.0</td>\n",
       "      <td>37.762763</td>\n",
       "      <td>4</td>\n",
       "      <td>93</td>\n",
       "      <td>666</td>\n",
       "    </tr>\n",
       "    <tr>\n",
       "      <td>2</td>\n",
       "      <td>35.0</td>\n",
       "      <td>36.294877</td>\n",
       "      <td>3</td>\n",
       "      <td>93</td>\n",
       "      <td>4568</td>\n",
       "    </tr>\n",
       "    <tr>\n",
       "      <td>3</td>\n",
       "      <td>36.0</td>\n",
       "      <td>37.521786</td>\n",
       "      <td>6</td>\n",
       "      <td>90</td>\n",
       "      <td>2754</td>\n",
       "    </tr>\n",
       "    <tr>\n",
       "      <td rowspan=\"3\" valign=\"top\">2</td>\n",
       "      <td>1</td>\n",
       "      <td>36.0</td>\n",
       "      <td>40.052632</td>\n",
       "      <td>17</td>\n",
       "      <td>79</td>\n",
       "      <td>133</td>\n",
       "    </tr>\n",
       "    <tr>\n",
       "      <td>2</td>\n",
       "      <td>36.0</td>\n",
       "      <td>38.537815</td>\n",
       "      <td>4</td>\n",
       "      <td>91</td>\n",
       "      <td>1190</td>\n",
       "    </tr>\n",
       "    <tr>\n",
       "      <td>3</td>\n",
       "      <td>35.0</td>\n",
       "      <td>36.083665</td>\n",
       "      <td>7</td>\n",
       "      <td>91</td>\n",
       "      <td>1004</td>\n",
       "    </tr>\n",
       "    <tr>\n",
       "      <td>All</td>\n",
       "      <td></td>\n",
       "      <td></td>\n",
       "      <td>36.0</td>\n",
       "      <td>37.774650</td>\n",
       "      <td>3</td>\n",
       "      <td>98</td>\n",
       "      <td>72891</td>\n",
       "    </tr>\n",
       "  </tbody>\n",
       "</table>\n",
       "</div>"
      ],
      "text/plain": [
       "                                                   median          mean  \\\n",
       "                                            Age_of_Driver Age_of_Driver   \n",
       "Day_of_Week Sex_of_Driver Accident_Severity                               \n",
       "1           1             1                          36.0     38.485226   \n",
       "                          2                          36.0     36.838669   \n",
       "                          3                          34.0     35.794647   \n",
       "            2             1                          36.0     39.422680   \n",
       "                          2                          36.0     38.141051   \n",
       "                          3                          34.0     35.543767   \n",
       "2           1             1                          37.0     40.055351   \n",
       "                          2                          36.0     38.300769   \n",
       "                          3                          36.0     38.316602   \n",
       "            2             1                          41.0     44.518182   \n",
       "                          2                          36.0     38.582931   \n",
       "                          3                          36.0     36.927765   \n",
       "3           1             1                          38.0     40.764486   \n",
       "                          2                          36.0     37.982343   \n",
       "                          3                          36.0     37.606704   \n",
       "            2             1                          36.0     38.072165   \n",
       "                          2                          36.0     38.281818   \n",
       "                          3                          36.0     37.199712   \n",
       "4           1             1                          37.0     39.679612   \n",
       "                          2                          36.0     38.149064   \n",
       "                          3                          36.0     37.915282   \n",
       "            2             1                          36.0     39.429577   \n",
       "                          2                          36.0     38.468165   \n",
       "                          3                          36.0     37.574087   \n",
       "5           1             1                          39.0     40.752874   \n",
       "                          2                          36.0     37.919597   \n",
       "                          3                          36.0     38.027152   \n",
       "            2             1                          39.5     42.351852   \n",
       "                          2                          38.0     39.768773   \n",
       "                          3                          36.0     37.230329   \n",
       "6           1             1                          38.0     40.255486   \n",
       "                          2                          36.0     37.414013   \n",
       "                          3                          36.0     37.801552   \n",
       "            2             1                          39.0     42.549550   \n",
       "                          2                          36.0     38.562670   \n",
       "                          3                          35.0     36.867388   \n",
       "7           1             1                          35.0     37.762763   \n",
       "                          2                          35.0     36.294877   \n",
       "                          3                          36.0     37.521786   \n",
       "            2             1                          36.0     40.052632   \n",
       "                          2                          36.0     38.537815   \n",
       "                          3                          35.0     36.083665   \n",
       "All                                                  36.0     37.774650   \n",
       "\n",
       "                                                      min           max  \\\n",
       "                                            Age_of_Driver Age_of_Driver   \n",
       "Day_of_Week Sex_of_Driver Accident_Severity                               \n",
       "1           1             1                             9            88   \n",
       "                          2                             6            92   \n",
       "                          3                             8            91   \n",
       "            2             1                            18            85   \n",
       "                          2                             7            90   \n",
       "                          3                             6            84   \n",
       "2           1             1                            11            90   \n",
       "                          2                             5            95   \n",
       "                          3                             3            93   \n",
       "            2             1                            18            88   \n",
       "                          2                             7            87   \n",
       "                          3                             4            91   \n",
       "3           1             1                            14            95   \n",
       "                          2                             3            92   \n",
       "                          3                             6            90   \n",
       "            2             1                            16            81   \n",
       "                          2                             7            87   \n",
       "                          3                            12            90   \n",
       "4           1             1                             9            89   \n",
       "                          2                             6            93   \n",
       "                          3                             8            92   \n",
       "            2             1                            17            82   \n",
       "                          2                             7            85   \n",
       "                          3                             7            98   \n",
       "5           1             1                             8            91   \n",
       "                          2                             3            92   \n",
       "                          3                             5            90   \n",
       "            2             1                            17            92   \n",
       "                          2                             5            93   \n",
       "                          3                             8            86   \n",
       "6           1             1                            10            94   \n",
       "                          2                             4            93   \n",
       "                          3                             6            93   \n",
       "            2             1                            14            91   \n",
       "                          2                             6            92   \n",
       "                          3                             6            92   \n",
       "7           1             1                             4            93   \n",
       "                          2                             3            93   \n",
       "                          3                             6            90   \n",
       "            2             1                            17            79   \n",
       "                          2                             4            91   \n",
       "                          3                             7            91   \n",
       "All                                                     3            98   \n",
       "\n",
       "                                                    count  \n",
       "                                            Age_of_Driver  \n",
       "Day_of_Week Sex_of_Driver Accident_Severity                \n",
       "1           1             1                           643  \n",
       "                          2                          3936  \n",
       "                          3                          2279  \n",
       "            2             1                            97  \n",
       "                          2                          1028  \n",
       "                          3                           754  \n",
       "2           1             1                           542  \n",
       "                          2                          4033  \n",
       "                          3                          2849  \n",
       "            2             1                           110  \n",
       "                          2                          1242  \n",
       "                          3                          1329  \n",
       "3           1             1                           535  \n",
       "                          2                          4191  \n",
       "                          3                          3013  \n",
       "            2             1                            97  \n",
       "                          2                          1320  \n",
       "                          3                          1387  \n",
       "4           1             1                           515  \n",
       "                          2                          4166  \n",
       "                          3                          3010  \n",
       "            2             1                           142  \n",
       "                          2                          1335  \n",
       "                          3                          1451  \n",
       "5           1             1                           522  \n",
       "                          2                          4266  \n",
       "                          3                          3020  \n",
       "            2             1                           108  \n",
       "                          2                          1345  \n",
       "                          3                          1398  \n",
       "6           1             1                           638  \n",
       "                          2                          4867  \n",
       "                          3                          3351  \n",
       "            2             1                           111  \n",
       "                          2                          1468  \n",
       "                          3                          1478  \n",
       "7           1             1                           666  \n",
       "                          2                          4568  \n",
       "                          3                          2754  \n",
       "            2             1                           133  \n",
       "                          2                          1190  \n",
       "                          3                          1004  \n",
       "All                                                 72891  "
      ]
     },
     "execution_count": 120,
     "metadata": {},
     "output_type": "execute_result"
    }
   ],
   "source": [
    "pd.pivot_table(data_selection, index=[\"Day_of_Week\", \"Sex_of_Driver\", \"Accident_Severity\"], values=\"Age_of_Driver\", aggfunc=[\"median\", \"mean\", \"min\", \"max\", \"count\"], margins=True)"
   ]
  },
  {
   "cell_type": "code",
   "execution_count": 49,
   "metadata": {},
   "outputs": [
    {
     "data": {
      "image/png": "[encoded data removed]",
      "text/plain": [
       "<Figure size 432x288 with 1 Axes>"
      ]
     },
     "metadata": {
      "needs_background": "light"
     },
     "output_type": "display_data"
    }
   ],
   "source": [
    "g = sns.countplot(y='Accident_Severity', data=data_selection, hue=\"Day_of_Week\")\n",
    "# pocetnost havarii podla zavaznosti a dna v tyzdni\n",
    "# cez vikendy je viac havarii"
   ]
  },
  {
   "cell_type": "code",
   "execution_count": 50,
   "metadata": {},
   "outputs": [
    {
     "data": {
      "image/png": "[encoded data removed]",
      "text/plain": [
       "<Figure size 432x288 with 1 Axes>"
      ]
     },
     "metadata": {
      "needs_background": "light"
     },
     "output_type": "display_data"
    }
   ],
   "source": [
    "g = sns.countplot(y='Accident_Severity', data=data_selection, hue=\"Sex_of_Driver\")\n",
    "# pocetnost havarii podla zavaznosti a pohlavia\n",
    "# muzi prevladaju v pocte havarii"
   ]
  },
  {
   "cell_type": "code",
   "execution_count": 51,
   "metadata": {},
   "outputs": [
    {
     "data": {
      "image/png": "[encoded data removed]",
      "text/plain": [
       "<Figure size 432x288 with 1 Axes>"
      ]
     },
     "metadata": {
      "needs_background": "light"
     },
     "output_type": "display_data"
    }
   ],
   "source": [
    "g = sns.countplot(y='Accident_Severity', data=data_selection, hue=\"Age_of_Driver_Ordinal\")\n",
    "# pocetnost havarii podla zavaznosti a veku\n"
   ]
  },
  {
   "cell_type": "code",
   "execution_count": 52,
   "metadata": {},
   "outputs": [
    {
     "data": {
      "image/png": "[encoded data removed]",
      "text/plain": [
       "<Figure size 1873.05x360 with 5 Axes>"
      ]
     },
     "metadata": {
      "needs_background": "light"
     },
     "output_type": "display_data"
    }
   ],
   "source": [
    "g = sns.catplot(x=\"Accident_Severity\", hue=\"Sex_of_Driver\", col=\"Age_of_Driver_Ordinal\", data=data_selection, kind=\"count\")\n",
    "# pocetnost havarii podla zavaznosti, pohlavia a veku   ....."
   ]
  },
  {
   "cell_type": "code",
   "execution_count": 53,
   "metadata": {},
   "outputs": [
    {
     "data": {
      "image/png": "[encoded data removed]",
      "text/plain": [
       "<Figure size 2593.05x360 with 7 Axes>"
      ]
     },
     "metadata": {
      "needs_background": "light"
     },
     "output_type": "display_data"
    }
   ],
   "source": [
    "g = sns.catplot(x=\"Accident_Severity\", hue=\"Sex_of_Driver\", col=\"Day_of_Week\", data=data_selection, kind=\"count\")\n",
    "# pocetnost havarii podla zavaznosti, pohlavia a dna v tyzdni"
   ]
  },
  {
   "cell_type": "code",
   "execution_count": 54,
   "metadata": {},
   "outputs": [
    {
     "data": {
      "image/png": "[encoded data removed]",
      "text/plain": [
       "<Figure size 432x288 with 1 Axes>"
      ]
     },
     "metadata": {
      "needs_background": "light"
     },
     "output_type": "display_data"
    }
   ],
   "source": [
    "g = sns.stripplot(x=\"Day_of_Week\", y=\"Age_of_Driver_Ordinal\", hue=\"Sex_of_Driver\", data=data_selection, jitter = 0.3, palette = 'Dark2')\n",
    "# vyzera to tak, ze najkritickejsi den pre zeny, kedy zeny sposobia havariu, je streda"
   ]
  },
  {
   "cell_type": "code",
   "execution_count": 55,
   "metadata": {},
   "outputs": [
    {
     "data": {
      "image/png": "[encoded data removed]",
      "text/plain": [
       "<Figure size 1153.05x360 with 3 Axes>"
      ]
     },
     "metadata": {
      "needs_background": "light"
     },
     "output_type": "display_data"
    }
   ],
   "source": [
    "g = sns.catplot(x=\"Day_of_Week\", y=\"Age_of_Driver\", hue=\"Sex_of_Driver\", col=\"Accident_Severity\", data=data_selection, kind=\"bar\")\n",
    "# podla grafu fatalne havarie sposobia v priemere starsie zeny ako muzi"
   ]
  },
  {
   "cell_type": "markdown",
   "metadata": {},
   "source": [
    "8. Vytvorte dátovú množinu, v ktorej nahradíte všetky nominálne atribúty za číselné alebo binárne. (3b)"
   ]
  },
  {
   "cell_type": "code",
   "execution_count": 121,
   "metadata": {},
   "outputs": [
    {
     "name": "stdout",
     "output_type": "stream",
     "text": [
      "10\n",
      "72891\n"
     ]
    },
    {
     "data": {
      "text/html": [
       "<div>\n",
       "<style scoped>\n",
       "    .dataframe tbody tr th:only-of-type {\n",
       "        vertical-align: middle;\n",
       "    }\n",
       "\n",
       "    .dataframe tbody tr th {\n",
       "        vertical-align: top;\n",
       "    }\n",
       "\n",
       "    .dataframe thead th {\n",
       "        text-align: right;\n",
       "    }\n",
       "</style>\n",
       "<table border=\"1\" class=\"dataframe\">\n",
       "  <thead>\n",
       "    <tr style=\"text-align: right;\">\n",
       "      <th></th>\n",
       "      <th>Day_of_Week</th>\n",
       "      <th>Road_Type</th>\n",
       "      <th>Light_Conditions</th>\n",
       "      <th>Weather_Conditions</th>\n",
       "      <th>Road_Surface_Conditions</th>\n",
       "      <th>Urban_or_Rural_Area</th>\n",
       "      <th>Vehicle_Type</th>\n",
       "      <th>Sex_of_Driver</th>\n",
       "      <th>Accident_Severity</th>\n",
       "      <th>Age_of_Driver_Ordinal</th>\n",
       "    </tr>\n",
       "  </thead>\n",
       "  <tbody>\n",
       "    <tr>\n",
       "      <td>0</td>\n",
       "      <td>4</td>\n",
       "      <td>2</td>\n",
       "      <td>1</td>\n",
       "      <td>1</td>\n",
       "      <td>1</td>\n",
       "      <td>1</td>\n",
       "      <td>2</td>\n",
       "      <td>1</td>\n",
       "      <td>1</td>\n",
       "      <td>adult</td>\n",
       "    </tr>\n",
       "    <tr>\n",
       "      <td>1</td>\n",
       "      <td>4</td>\n",
       "      <td>2</td>\n",
       "      <td>1</td>\n",
       "      <td>1</td>\n",
       "      <td>1</td>\n",
       "      <td>1</td>\n",
       "      <td>1</td>\n",
       "      <td>1</td>\n",
       "      <td>1</td>\n",
       "      <td>young</td>\n",
       "    </tr>\n",
       "    <tr>\n",
       "      <td>2</td>\n",
       "      <td>4</td>\n",
       "      <td>6</td>\n",
       "      <td>1</td>\n",
       "      <td>1</td>\n",
       "      <td>1</td>\n",
       "      <td>1</td>\n",
       "      <td>11</td>\n",
       "      <td>1</td>\n",
       "      <td>1</td>\n",
       "      <td>old</td>\n",
       "    </tr>\n",
       "    <tr>\n",
       "      <td>3</td>\n",
       "      <td>5</td>\n",
       "      <td>6</td>\n",
       "      <td>1</td>\n",
       "      <td>1</td>\n",
       "      <td>2</td>\n",
       "      <td>1</td>\n",
       "      <td>1</td>\n",
       "      <td>1</td>\n",
       "      <td>1</td>\n",
       "      <td>young</td>\n",
       "    </tr>\n",
       "    <tr>\n",
       "      <td>4</td>\n",
       "      <td>5</td>\n",
       "      <td>6</td>\n",
       "      <td>1</td>\n",
       "      <td>1</td>\n",
       "      <td>2</td>\n",
       "      <td>1</td>\n",
       "      <td>9</td>\n",
       "      <td>1</td>\n",
       "      <td>1</td>\n",
       "      <td>adult</td>\n",
       "    </tr>\n",
       "  </tbody>\n",
       "</table>\n",
       "</div>"
      ],
      "text/plain": [
       "   Day_of_Week  Road_Type  Light_Conditions  Weather_Conditions  \\\n",
       "0            4          2                 1                   1   \n",
       "1            4          2                 1                   1   \n",
       "2            4          6                 1                   1   \n",
       "3            5          6                 1                   1   \n",
       "4            5          6                 1                   1   \n",
       "\n",
       "   Road_Surface_Conditions  Urban_or_Rural_Area  Vehicle_Type  Sex_of_Driver  \\\n",
       "0                        1                    1             2              1   \n",
       "1                        1                    1             1              1   \n",
       "2                        1                    1            11              1   \n",
       "3                        2                    1             1              1   \n",
       "4                        2                    1             9              1   \n",
       "\n",
       "   Accident_Severity Age_of_Driver_Ordinal  \n",
       "0                  1                 adult  \n",
       "1                  1                 young  \n",
       "2                  1                   old  \n",
       "3                  1                 young  \n",
       "4                  1                 adult  "
      ]
     },
     "execution_count": 121,
     "metadata": {},
     "output_type": "execute_result"
    }
   ],
   "source": [
    "data_selection.drop(columns=[\"Age_of_Driver\"], inplace=True) # odstranim stlpec age, pracovat budem so stlpcom Age_of_Driver_Ordinal \n",
    "print(data_selection.shape[1])\n",
    "print(data_selection.shape[0])\n",
    "data_selection.head() "
   ]
  },
  {
   "cell_type": "code",
   "execution_count": 122,
   "metadata": {},
   "outputs": [
    {
     "data": {
      "text/html": [
       "<div>\n",
       "<style scoped>\n",
       "    .dataframe tbody tr th:only-of-type {\n",
       "        vertical-align: middle;\n",
       "    }\n",
       "\n",
       "    .dataframe tbody tr th {\n",
       "        vertical-align: top;\n",
       "    }\n",
       "\n",
       "    .dataframe thead th {\n",
       "        text-align: right;\n",
       "    }\n",
       "</style>\n",
       "<table border=\"1\" class=\"dataframe\">\n",
       "  <thead>\n",
       "    <tr style=\"text-align: right;\">\n",
       "      <th></th>\n",
       "      <th>Day_of_Week</th>\n",
       "      <th>Road_Type</th>\n",
       "      <th>Light_Conditions</th>\n",
       "      <th>Weather_Conditions</th>\n",
       "      <th>Road_Surface_Conditions</th>\n",
       "      <th>Urban_or_Rural_Area</th>\n",
       "      <th>Vehicle_Type</th>\n",
       "      <th>Sex_of_Driver</th>\n",
       "      <th>Accident_Severity</th>\n",
       "      <th>Age_of_Driver_Ordinal</th>\n",
       "    </tr>\n",
       "  </thead>\n",
       "  <tbody>\n",
       "    <tr>\n",
       "      <td>0</td>\n",
       "      <td>4</td>\n",
       "      <td>2</td>\n",
       "      <td>1</td>\n",
       "      <td>1</td>\n",
       "      <td>1</td>\n",
       "      <td>1</td>\n",
       "      <td>2</td>\n",
       "      <td>1</td>\n",
       "      <td>1</td>\n",
       "      <td>2</td>\n",
       "    </tr>\n",
       "    <tr>\n",
       "      <td>1</td>\n",
       "      <td>4</td>\n",
       "      <td>2</td>\n",
       "      <td>1</td>\n",
       "      <td>1</td>\n",
       "      <td>1</td>\n",
       "      <td>1</td>\n",
       "      <td>1</td>\n",
       "      <td>1</td>\n",
       "      <td>1</td>\n",
       "      <td>1</td>\n",
       "    </tr>\n",
       "    <tr>\n",
       "      <td>2</td>\n",
       "      <td>4</td>\n",
       "      <td>6</td>\n",
       "      <td>1</td>\n",
       "      <td>1</td>\n",
       "      <td>1</td>\n",
       "      <td>1</td>\n",
       "      <td>11</td>\n",
       "      <td>1</td>\n",
       "      <td>1</td>\n",
       "      <td>3</td>\n",
       "    </tr>\n",
       "    <tr>\n",
       "      <td>3</td>\n",
       "      <td>5</td>\n",
       "      <td>6</td>\n",
       "      <td>1</td>\n",
       "      <td>1</td>\n",
       "      <td>2</td>\n",
       "      <td>1</td>\n",
       "      <td>1</td>\n",
       "      <td>1</td>\n",
       "      <td>1</td>\n",
       "      <td>1</td>\n",
       "    </tr>\n",
       "    <tr>\n",
       "      <td>4</td>\n",
       "      <td>5</td>\n",
       "      <td>6</td>\n",
       "      <td>1</td>\n",
       "      <td>1</td>\n",
       "      <td>2</td>\n",
       "      <td>1</td>\n",
       "      <td>9</td>\n",
       "      <td>1</td>\n",
       "      <td>1</td>\n",
       "      <td>2</td>\n",
       "    </tr>\n",
       "  </tbody>\n",
       "</table>\n",
       "</div>"
      ],
      "text/plain": [
       "   Day_of_Week  Road_Type  Light_Conditions  Weather_Conditions  \\\n",
       "0            4          2                 1                   1   \n",
       "1            4          2                 1                   1   \n",
       "2            4          6                 1                   1   \n",
       "3            5          6                 1                   1   \n",
       "4            5          6                 1                   1   \n",
       "\n",
       "   Road_Surface_Conditions  Urban_or_Rural_Area  Vehicle_Type  Sex_of_Driver  \\\n",
       "0                        1                    1             2              1   \n",
       "1                        1                    1             1              1   \n",
       "2                        1                    1            11              1   \n",
       "3                        2                    1             1              1   \n",
       "4                        2                    1             9              1   \n",
       "\n",
       "   Accident_Severity Age_of_Driver_Ordinal  \n",
       "0                  1                     2  \n",
       "1                  1                     1  \n",
       "2                  1                     3  \n",
       "3                  1                     1  \n",
       "4                  1                     2  "
      ]
     },
     "execution_count": 122,
     "metadata": {},
     "output_type": "execute_result"
    }
   ],
   "source": [
    "data_selection['Age_of_Driver_Ordinal'] = data_selection[\"Age_of_Driver_Ordinal\"].map({\"child\": 0, \"young\": 1, \"adult\": 2, \"old\": 3, \"very_old\": 4}) # transformujeme atribút Age_of_Driver_Ordinal\n",
    "data_selection.head() "
   ]
  },
  {
   "cell_type": "markdown",
   "metadata": {},
   "source": [
    "9. Rozdeľte dáta na trénovaciu a testovaciu množinu v pomere 70/30. Ako cieľový atribút použite atribút `Accident_Severity`. (2b)"
   ]
  },
  {
   "cell_type": "code",
   "execution_count": 129,
   "metadata": {},
   "outputs": [
    {
     "data": {
      "text/plain": [
       "(72891,)"
      ]
     },
     "execution_count": 129,
     "metadata": {},
     "output_type": "execute_result"
    }
   ],
   "source": [
    "X_data_selection = data_selection.drop('Accident_Severity', axis=1)\n",
    "X_data_selection.shape\n",
    "y_data_selection = data_selection['Accident_Severity']\n",
    "y_data_selection.shape"
   ]
  },
  {
   "cell_type": "code",
   "execution_count": 130,
   "metadata": {},
   "outputs": [
    {
     "name": "stdout",
     "output_type": "stream",
     "text": [
      "Trenovacia mnozina:\n",
      "(51023, 9)\n",
      "(51023,)\n",
      "Testovacia mnozina:\n",
      "(21868, 9)\n",
      "(21868,)\n"
     ]
    }
   ],
   "source": [
    "from sklearn.model_selection import train_test_split # naimportujem potrebnú funkciu\n",
    "\n",
    "X_train, X_test, y_train, y_test = train_test_split(X_data_selection, y_data_selection, test_size=0.3, random_state=1) \n",
    "# test_size=0.3 znamena 70:30\n",
    "print(\"Trenovacia mnozina:\")\n",
    "print(X_train.shape)\n",
    "print(y_train.shape)\n",
    "print(\"Testovacia mnozina:\")\n",
    "print(X_test.shape)\n",
    "print(y_test.shape)"
   ]
  },
  {
   "cell_type": "markdown",
   "metadata": {},
   "source": [
    "10. Spočítajte pomocou funkcie `SelectKBest` a `mutual_score_info` významosti jednotlivých atribútov pre predikciu v trénovacej množine. Skúste získané informácie využiť pri predspracovaní dát pre niektoré z modelov. (3b)"
   ]
  },
  {
   "cell_type": "code",
   "execution_count": 131,
   "metadata": {},
   "outputs": [
    {
     "data": {
      "text/plain": [
       "SelectKBest(k='all',\n",
       "            score_func=<function mutual_info_classif at 0x000002B555DE81F8>)"
      ]
     },
     "execution_count": 131,
     "metadata": {},
     "output_type": "execute_result"
    }
   ],
   "source": [
    "from sklearn.feature_selection import SelectKBest, mutual_info_classif\n",
    "\n",
    "fs = SelectKBest(score_func=mutual_info_classif, k='all')\n",
    "fs.fit(X_train, y_train)"
   ]
  },
  {
   "cell_type": "code",
   "execution_count": 132,
   "metadata": {},
   "outputs": [
    {
     "name": "stdout",
     "output_type": "stream",
     "text": [
      "Atribut 0: 0.004117\n",
      "Atribut 1: 0.007491\n",
      "Atribut 2: 0.009593\n",
      "Atribut 3: 0.002531\n",
      "Atribut 4: 0.003313\n",
      "Atribut 5: 0.016598\n",
      "Atribut 6: 0.015882\n",
      "Atribut 7: 0.008004\n",
      "Atribut 8: 0.006391\n"
     ]
    },
    {
     "data": {
      "image/png": "[encoded data removed]",
      "text/plain": [
       "<Figure size 432x288 with 1 Axes>"
      ]
     },
     "metadata": {},
     "output_type": "display_data"
    }
   ],
   "source": [
    "for i in range(len(fs.scores_)):\n",
    "\tprint('Atribut %d: %f' % (i, fs.scores_[i]))\n",
    "    \n",
    "    \n",
    "plt.bar([i for i in range(len(fs.scores_))], fs.scores_)\n",
    "plt.show()"
   ]
  },
  {
   "cell_type": "code",
   "execution_count": null,
   "metadata": {},
   "outputs": [],
   "source": [
    "# postupnost zavaznosti atributov: (6)Vehicle_Type - (5)Urban_Rural_Area - (2)Light_Conditions - (1)Road_Type - (7)Sex_of_Driver - (3)Weather_Conditions......potom ostatne atributy"
   ]
  },
  {
   "cell_type": "markdown",
   "metadata": {},
   "source": [
    "11. Natrénujte rôzne klasifikačné modely pre predikciu atribútu `Accident_Severity`. Natrénujte nasledovné modely s prednastavenými parametrami:\n",
    "* k-najbližších susedov\n",
    "* Rozhodovacie stromy\n",
    "* Random forests\n",
    "\n",
    "Jednotlivé modely otestujte pomocou 10-násobnej krížovej validácie pomocou metriky `accuracy`. \n",
    "\n",
    "Pozor - pre jednotlivé modely zvoľte vhodný spôsob predspracovania (možná modifikácia predspracovania v kroku 8). (6b) "
   ]
  },
  {
   "cell_type": "code",
   "execution_count": 133,
   "metadata": {},
   "outputs": [
    {
     "data": {
      "text/html": [
       "<div>\n",
       "<style scoped>\n",
       "    .dataframe tbody tr th:only-of-type {\n",
       "        vertical-align: middle;\n",
       "    }\n",
       "\n",
       "    .dataframe tbody tr th {\n",
       "        vertical-align: top;\n",
       "    }\n",
       "\n",
       "    .dataframe thead th {\n",
       "        text-align: right;\n",
       "    }\n",
       "</style>\n",
       "<table border=\"1\" class=\"dataframe\">\n",
       "  <thead>\n",
       "    <tr style=\"text-align: right;\">\n",
       "      <th></th>\n",
       "      <th>Day_of_Week</th>\n",
       "      <th>Urban_or_Rural_Area</th>\n",
       "      <th>Sex_of_Driver</th>\n",
       "      <th>Accident_Severity</th>\n",
       "      <th>Age_of_Driver_Ordinal</th>\n",
       "      <th>Road_Type_1</th>\n",
       "      <th>Road_Type_2</th>\n",
       "      <th>Road_Type_3</th>\n",
       "      <th>Road_Type_6</th>\n",
       "      <th>Road_Type_7</th>\n",
       "      <th>...</th>\n",
       "      <th>Road_Surface_Conditions_3</th>\n",
       "      <th>Road_Surface_Conditions_4</th>\n",
       "      <th>Road_Surface_Conditions_5</th>\n",
       "      <th>Vehicle_Type_1</th>\n",
       "      <th>Vehicle_Type_2</th>\n",
       "      <th>Vehicle_Type_9</th>\n",
       "      <th>Vehicle_Type_11</th>\n",
       "      <th>Vehicle_Type_16</th>\n",
       "      <th>Vehicle_Type_17</th>\n",
       "      <th>Vehicle_Type_21</th>\n",
       "    </tr>\n",
       "  </thead>\n",
       "  <tbody>\n",
       "    <tr>\n",
       "      <td>0</td>\n",
       "      <td>4</td>\n",
       "      <td>1</td>\n",
       "      <td>1</td>\n",
       "      <td>1</td>\n",
       "      <td>2</td>\n",
       "      <td>0</td>\n",
       "      <td>1</td>\n",
       "      <td>0</td>\n",
       "      <td>0</td>\n",
       "      <td>0</td>\n",
       "      <td>...</td>\n",
       "      <td>0</td>\n",
       "      <td>0</td>\n",
       "      <td>0</td>\n",
       "      <td>0</td>\n",
       "      <td>1</td>\n",
       "      <td>0</td>\n",
       "      <td>0</td>\n",
       "      <td>0</td>\n",
       "      <td>0</td>\n",
       "      <td>0</td>\n",
       "    </tr>\n",
       "    <tr>\n",
       "      <td>1</td>\n",
       "      <td>4</td>\n",
       "      <td>1</td>\n",
       "      <td>1</td>\n",
       "      <td>1</td>\n",
       "      <td>1</td>\n",
       "      <td>0</td>\n",
       "      <td>1</td>\n",
       "      <td>0</td>\n",
       "      <td>0</td>\n",
       "      <td>0</td>\n",
       "      <td>...</td>\n",
       "      <td>0</td>\n",
       "      <td>0</td>\n",
       "      <td>0</td>\n",
       "      <td>1</td>\n",
       "      <td>0</td>\n",
       "      <td>0</td>\n",
       "      <td>0</td>\n",
       "      <td>0</td>\n",
       "      <td>0</td>\n",
       "      <td>0</td>\n",
       "    </tr>\n",
       "    <tr>\n",
       "      <td>2</td>\n",
       "      <td>4</td>\n",
       "      <td>1</td>\n",
       "      <td>1</td>\n",
       "      <td>1</td>\n",
       "      <td>3</td>\n",
       "      <td>0</td>\n",
       "      <td>0</td>\n",
       "      <td>0</td>\n",
       "      <td>1</td>\n",
       "      <td>0</td>\n",
       "      <td>...</td>\n",
       "      <td>0</td>\n",
       "      <td>0</td>\n",
       "      <td>0</td>\n",
       "      <td>0</td>\n",
       "      <td>0</td>\n",
       "      <td>0</td>\n",
       "      <td>1</td>\n",
       "      <td>0</td>\n",
       "      <td>0</td>\n",
       "      <td>0</td>\n",
       "    </tr>\n",
       "    <tr>\n",
       "      <td>3</td>\n",
       "      <td>5</td>\n",
       "      <td>1</td>\n",
       "      <td>1</td>\n",
       "      <td>1</td>\n",
       "      <td>1</td>\n",
       "      <td>0</td>\n",
       "      <td>0</td>\n",
       "      <td>0</td>\n",
       "      <td>1</td>\n",
       "      <td>0</td>\n",
       "      <td>...</td>\n",
       "      <td>0</td>\n",
       "      <td>0</td>\n",
       "      <td>0</td>\n",
       "      <td>1</td>\n",
       "      <td>0</td>\n",
       "      <td>0</td>\n",
       "      <td>0</td>\n",
       "      <td>0</td>\n",
       "      <td>0</td>\n",
       "      <td>0</td>\n",
       "    </tr>\n",
       "    <tr>\n",
       "      <td>4</td>\n",
       "      <td>5</td>\n",
       "      <td>1</td>\n",
       "      <td>1</td>\n",
       "      <td>1</td>\n",
       "      <td>2</td>\n",
       "      <td>0</td>\n",
       "      <td>0</td>\n",
       "      <td>0</td>\n",
       "      <td>1</td>\n",
       "      <td>0</td>\n",
       "      <td>...</td>\n",
       "      <td>0</td>\n",
       "      <td>0</td>\n",
       "      <td>0</td>\n",
       "      <td>0</td>\n",
       "      <td>0</td>\n",
       "      <td>1</td>\n",
       "      <td>0</td>\n",
       "      <td>0</td>\n",
       "      <td>0</td>\n",
       "      <td>0</td>\n",
       "    </tr>\n",
       "  </tbody>\n",
       "</table>\n",
       "<p>5 rows × 34 columns</p>\n",
       "</div>"
      ],
      "text/plain": [
       "   Day_of_Week  Urban_or_Rural_Area  Sex_of_Driver  Accident_Severity  \\\n",
       "0            4                    1              1                  1   \n",
       "1            4                    1              1                  1   \n",
       "2            4                    1              1                  1   \n",
       "3            5                    1              1                  1   \n",
       "4            5                    1              1                  1   \n",
       "\n",
       "  Age_of_Driver_Ordinal  Road_Type_1  Road_Type_2  Road_Type_3  Road_Type_6  \\\n",
       "0                     2            0            1            0            0   \n",
       "1                     1            0            1            0            0   \n",
       "2                     3            0            0            0            1   \n",
       "3                     1            0            0            0            1   \n",
       "4                     2            0            0            0            1   \n",
       "\n",
       "   Road_Type_7  ...  Road_Surface_Conditions_3  Road_Surface_Conditions_4  \\\n",
       "0            0  ...                          0                          0   \n",
       "1            0  ...                          0                          0   \n",
       "2            0  ...                          0                          0   \n",
       "3            0  ...                          0                          0   \n",
       "4            0  ...                          0                          0   \n",
       "\n",
       "   Road_Surface_Conditions_5  Vehicle_Type_1  Vehicle_Type_2  Vehicle_Type_9  \\\n",
       "0                          0               0               1               0   \n",
       "1                          0               1               0               0   \n",
       "2                          0               0               0               0   \n",
       "3                          0               1               0               0   \n",
       "4                          0               0               0               1   \n",
       "\n",
       "   Vehicle_Type_11  Vehicle_Type_16  Vehicle_Type_17  Vehicle_Type_21  \n",
       "0                0                0                0                0  \n",
       "1                0                0                0                0  \n",
       "2                1                0                0                0  \n",
       "3                0                0                0                0  \n",
       "4                0                0                0                0  \n",
       "\n",
       "[5 rows x 34 columns]"
      ]
     },
     "execution_count": 133,
     "metadata": {},
     "output_type": "execute_result"
    }
   ],
   "source": [
    "# binarizujem niektore atributy\n",
    "data_selection = pd.get_dummies(data_selection, columns=[\"Road_Type\", \"Light_Conditions\", \"Weather_Conditions\", \"Road_Surface_Conditions\", \"Vehicle_Type\"]) \n",
    "data_selection.head() "
   ]
  },
  {
   "cell_type": "code",
   "execution_count": 134,
   "metadata": {},
   "outputs": [
    {
     "data": {
      "text/html": [
       "<div>\n",
       "<style scoped>\n",
       "    .dataframe tbody tr th:only-of-type {\n",
       "        vertical-align: middle;\n",
       "    }\n",
       "\n",
       "    .dataframe tbody tr th {\n",
       "        vertical-align: top;\n",
       "    }\n",
       "\n",
       "    .dataframe thead th {\n",
       "        text-align: right;\n",
       "    }\n",
       "</style>\n",
       "<table border=\"1\" class=\"dataframe\">\n",
       "  <thead>\n",
       "    <tr style=\"text-align: right;\">\n",
       "      <th></th>\n",
       "      <th>Day_of_Week</th>\n",
       "      <th>Urban_or_Rural_Area</th>\n",
       "      <th>Sex_of_Driver</th>\n",
       "      <th>Accident_Severity</th>\n",
       "      <th>Age_of_Driver_Ordinal</th>\n",
       "      <th>Road_Type_1</th>\n",
       "      <th>Road_Type_2</th>\n",
       "      <th>Road_Type_3</th>\n",
       "      <th>Road_Type_6</th>\n",
       "      <th>Road_Type_7</th>\n",
       "      <th>...</th>\n",
       "      <th>Road_Surface_Conditions_3</th>\n",
       "      <th>Road_Surface_Conditions_4</th>\n",
       "      <th>Road_Surface_Conditions_5</th>\n",
       "      <th>Vehicle_Type_1</th>\n",
       "      <th>Vehicle_Type_2</th>\n",
       "      <th>Vehicle_Type_9</th>\n",
       "      <th>Vehicle_Type_11</th>\n",
       "      <th>Vehicle_Type_16</th>\n",
       "      <th>Vehicle_Type_17</th>\n",
       "      <th>Vehicle_Type_21</th>\n",
       "    </tr>\n",
       "  </thead>\n",
       "  <tbody>\n",
       "    <tr>\n",
       "      <td>0</td>\n",
       "      <td>0.500000</td>\n",
       "      <td>0.0</td>\n",
       "      <td>0.0</td>\n",
       "      <td>0.0</td>\n",
       "      <td>0.50</td>\n",
       "      <td>0.0</td>\n",
       "      <td>1.0</td>\n",
       "      <td>0.0</td>\n",
       "      <td>0.0</td>\n",
       "      <td>0.0</td>\n",
       "      <td>...</td>\n",
       "      <td>0.0</td>\n",
       "      <td>0.0</td>\n",
       "      <td>0.0</td>\n",
       "      <td>0.0</td>\n",
       "      <td>1.0</td>\n",
       "      <td>0.0</td>\n",
       "      <td>0.0</td>\n",
       "      <td>0.0</td>\n",
       "      <td>0.0</td>\n",
       "      <td>0.0</td>\n",
       "    </tr>\n",
       "    <tr>\n",
       "      <td>1</td>\n",
       "      <td>0.500000</td>\n",
       "      <td>0.0</td>\n",
       "      <td>0.0</td>\n",
       "      <td>0.0</td>\n",
       "      <td>0.25</td>\n",
       "      <td>0.0</td>\n",
       "      <td>1.0</td>\n",
       "      <td>0.0</td>\n",
       "      <td>0.0</td>\n",
       "      <td>0.0</td>\n",
       "      <td>...</td>\n",
       "      <td>0.0</td>\n",
       "      <td>0.0</td>\n",
       "      <td>0.0</td>\n",
       "      <td>1.0</td>\n",
       "      <td>0.0</td>\n",
       "      <td>0.0</td>\n",
       "      <td>0.0</td>\n",
       "      <td>0.0</td>\n",
       "      <td>0.0</td>\n",
       "      <td>0.0</td>\n",
       "    </tr>\n",
       "    <tr>\n",
       "      <td>2</td>\n",
       "      <td>0.500000</td>\n",
       "      <td>0.0</td>\n",
       "      <td>0.0</td>\n",
       "      <td>0.0</td>\n",
       "      <td>0.75</td>\n",
       "      <td>0.0</td>\n",
       "      <td>0.0</td>\n",
       "      <td>0.0</td>\n",
       "      <td>1.0</td>\n",
       "      <td>0.0</td>\n",
       "      <td>...</td>\n",
       "      <td>0.0</td>\n",
       "      <td>0.0</td>\n",
       "      <td>0.0</td>\n",
       "      <td>0.0</td>\n",
       "      <td>0.0</td>\n",
       "      <td>0.0</td>\n",
       "      <td>1.0</td>\n",
       "      <td>0.0</td>\n",
       "      <td>0.0</td>\n",
       "      <td>0.0</td>\n",
       "    </tr>\n",
       "    <tr>\n",
       "      <td>3</td>\n",
       "      <td>0.666667</td>\n",
       "      <td>0.0</td>\n",
       "      <td>0.0</td>\n",
       "      <td>0.0</td>\n",
       "      <td>0.25</td>\n",
       "      <td>0.0</td>\n",
       "      <td>0.0</td>\n",
       "      <td>0.0</td>\n",
       "      <td>1.0</td>\n",
       "      <td>0.0</td>\n",
       "      <td>...</td>\n",
       "      <td>0.0</td>\n",
       "      <td>0.0</td>\n",
       "      <td>0.0</td>\n",
       "      <td>1.0</td>\n",
       "      <td>0.0</td>\n",
       "      <td>0.0</td>\n",
       "      <td>0.0</td>\n",
       "      <td>0.0</td>\n",
       "      <td>0.0</td>\n",
       "      <td>0.0</td>\n",
       "    </tr>\n",
       "    <tr>\n",
       "      <td>4</td>\n",
       "      <td>0.666667</td>\n",
       "      <td>0.0</td>\n",
       "      <td>0.0</td>\n",
       "      <td>0.0</td>\n",
       "      <td>0.50</td>\n",
       "      <td>0.0</td>\n",
       "      <td>0.0</td>\n",
       "      <td>0.0</td>\n",
       "      <td>1.0</td>\n",
       "      <td>0.0</td>\n",
       "      <td>...</td>\n",
       "      <td>0.0</td>\n",
       "      <td>0.0</td>\n",
       "      <td>0.0</td>\n",
       "      <td>0.0</td>\n",
       "      <td>0.0</td>\n",
       "      <td>1.0</td>\n",
       "      <td>0.0</td>\n",
       "      <td>0.0</td>\n",
       "      <td>0.0</td>\n",
       "      <td>0.0</td>\n",
       "    </tr>\n",
       "  </tbody>\n",
       "</table>\n",
       "<p>5 rows × 34 columns</p>\n",
       "</div>"
      ],
      "text/plain": [
       "   Day_of_Week  Urban_or_Rural_Area  Sex_of_Driver  Accident_Severity  \\\n",
       "0     0.500000                  0.0            0.0                0.0   \n",
       "1     0.500000                  0.0            0.0                0.0   \n",
       "2     0.500000                  0.0            0.0                0.0   \n",
       "3     0.666667                  0.0            0.0                0.0   \n",
       "4     0.666667                  0.0            0.0                0.0   \n",
       "\n",
       "   Age_of_Driver_Ordinal  Road_Type_1  Road_Type_2  Road_Type_3  Road_Type_6  \\\n",
       "0                   0.50          0.0          1.0          0.0          0.0   \n",
       "1                   0.25          0.0          1.0          0.0          0.0   \n",
       "2                   0.75          0.0          0.0          0.0          1.0   \n",
       "3                   0.25          0.0          0.0          0.0          1.0   \n",
       "4                   0.50          0.0          0.0          0.0          1.0   \n",
       "\n",
       "   Road_Type_7  ...  Road_Surface_Conditions_3  Road_Surface_Conditions_4  \\\n",
       "0          0.0  ...                        0.0                        0.0   \n",
       "1          0.0  ...                        0.0                        0.0   \n",
       "2          0.0  ...                        0.0                        0.0   \n",
       "3          0.0  ...                        0.0                        0.0   \n",
       "4          0.0  ...                        0.0                        0.0   \n",
       "\n",
       "   Road_Surface_Conditions_5  Vehicle_Type_1  Vehicle_Type_2  Vehicle_Type_9  \\\n",
       "0                        0.0             0.0             1.0             0.0   \n",
       "1                        0.0             1.0             0.0             0.0   \n",
       "2                        0.0             0.0             0.0             0.0   \n",
       "3                        0.0             1.0             0.0             0.0   \n",
       "4                        0.0             0.0             0.0             1.0   \n",
       "\n",
       "   Vehicle_Type_11  Vehicle_Type_16  Vehicle_Type_17  Vehicle_Type_21  \n",
       "0              0.0              0.0              0.0              0.0  \n",
       "1              0.0              0.0              0.0              0.0  \n",
       "2              1.0              0.0              0.0              0.0  \n",
       "3              0.0              0.0              0.0              0.0  \n",
       "4              0.0              0.0              0.0              0.0  \n",
       "\n",
       "[5 rows x 34 columns]"
      ]
     },
     "execution_count": 134,
     "metadata": {},
     "output_type": "execute_result"
    }
   ],
   "source": [
    "# pre knn model normalizujem najprv data\n",
    "\n",
    "from sklearn.preprocessing import MinMaxScaler \n",
    "\n",
    "scaler = MinMaxScaler() \n",
    "data_selection_norm = pd.DataFrame(scaler.fit_transform(data_selection), index=data_selection.index, columns=data_selection.columns)\n",
    "data_selection_norm.head() "
   ]
  },
  {
   "cell_type": "code",
   "execution_count": 160,
   "metadata": {},
   "outputs": [
    {
     "name": "stdout",
     "output_type": "stream",
     "text": [
      "Úspešnosť (accuracy) knn_default: 0.5201207243460765\n",
      "[[  98 1007  343]\n",
      " [ 382 7656 3715]\n",
      " [ 181 4866 3620]]\n"
     ]
    }
   ],
   "source": [
    "# 1 - natrenovanie knn modelu s defaultne nastavenymi parametrami a normalizovanymi datami\n",
    "\n",
    "X_data_selection = data_selection.drop('Accident_Severity', axis=1)\n",
    "X_data_selection.shape\n",
    "y_data_selection = data_selection['Accident_Severity']\n",
    "y_data_selection.shape\n",
    "\n",
    "X_train, X_test, y_train, y_test = train_test_split(X_data_selection, y_data_selection, test_size=0.3, random_state=1)\n",
    "\n",
    "from sklearn.neighbors import KNeighborsClassifier \n",
    "from sklearn.metrics import accuracy_score\n",
    "from sklearn.metrics import confusion_matrix\n",
    "\n",
    "knn_default = KNeighborsClassifier()          \n",
    "knn_default.fit(X_train, y_train)           \n",
    "y_knn_default = knn_default.predict(X_test)   \n",
    "\n",
    "print(f\"Úspešnosť (accuracy) knn_default: {accuracy_score(y_test, y_knn_default)}\")\n",
    "\n",
    "cm = confusion_matrix(y_test, y_knn_default)  \n",
    "print(cm)"
   ]
  },
  {
   "cell_type": "code",
   "execution_count": 65,
   "metadata": {},
   "outputs": [
    {
     "name": "stdout",
     "output_type": "stream",
     "text": [
      "[0.51665361 0.54497354 0.53155625 0.51979616 0.51646413 0.53155625\n",
      " 0.51940416 0.53292826 0.51685613 0.52861623]\n"
     ]
    }
   ],
   "source": [
    "# 1 - 10-nasobna krizova validacia knn modelu s defaultne nastavenymi parametrami a normalizovanymi datami\n",
    "from sklearn.model_selection import cross_validate          \n",
    "scoring = ['accuracy']                                      \n",
    "scores = cross_validate(knn_default, X_train, y_train, scoring=scoring, cv=10, return_train_score=False) \n",
    "                                        \n",
    "sorted(scores.keys()) \n",
    "print(scores['test_accuracy'])"
   ]
  },
  {
   "cell_type": "code",
   "execution_count": 159,
   "metadata": {},
   "outputs": [
    {
     "name": "stdout",
     "output_type": "stream",
     "text": [
      "Úspešnosť (accuracy) dt_default: 0.5630601792573624\n",
      "[[   8 1264  176]\n",
      " [  16 8664 3073]\n",
      " [  10 5016 3641]]\n"
     ]
    }
   ],
   "source": [
    "# 2 - natrenovanie modelu rozhodovacieho stromu s defaultne nastavenymi parametrami \n",
    "\n",
    "X_data_selection = data_selection.drop('Accident_Severity', axis=1)\n",
    "X_data_selection.shape\n",
    "y_data_selection = data_selection['Accident_Severity']\n",
    "y_data_selection.shape\n",
    "\n",
    "X_train, X_test, y_train, y_test = train_test_split(X_data_selection, y_data_selection, test_size=0.3, random_state=1)\n",
    "\n",
    "from sklearn.tree import DecisionTreeClassifier \n",
    "from sklearn.metrics import accuracy_score\n",
    "from sklearn.metrics import confusion_matrix\n",
    "\n",
    "dt_default = DecisionTreeClassifier(max_depth=8) # max_depth=8 ....aby to netrvalo strasne dlho    \n",
    "dt_default.fit(X_train, y_train)       \n",
    "y_dt_default = dt_default.predict(X_test)       \n",
    "\n",
    "print(f\"Úspešnosť (accuracy) dt_default: {accuracy_score(y_test, y_dt_default)}\")\n",
    "\n",
    "cm = confusion_matrix(y_test, y_dt_default)  \n",
    "print(cm)"
   ]
  },
  {
   "cell_type": "code",
   "execution_count": 60,
   "metadata": {},
   "outputs": [
    {
     "name": "stdout",
     "output_type": "stream",
     "text": [
      "[0.5648511  0.57534783 0.5754606  0.56330851 0.5631125  0.55782046\n",
      " 0.56468052 0.56938456 0.56997256 0.56526852]\n"
     ]
    }
   ],
   "source": [
    "# 2 - 10-nasobna krizova validacia modelu rozhodovacieho stromu s defaultne nastavenymi parametrami \n",
    "from sklearn.model_selection import cross_validate          \n",
    "scoring = ['accuracy']                                      \n",
    "scores = cross_validate(dt_default, X_train, y_train, scoring=scoring, cv=10, return_train_score=False) \n",
    "                                        \n",
    "sorted(scores.keys()) \n",
    "print(scores['test_accuracy'])"
   ]
  },
  {
   "cell_type": "code",
   "execution_count": 158,
   "metadata": {},
   "outputs": [
    {
     "name": "stdout",
     "output_type": "stream",
     "text": [
      "Úspešnosť(accuracy) rf_default: 0.5662154746661789\n",
      "[[   0 1346  102]\n",
      " [   0 9918 1835]\n",
      " [   0 6203 2464]]\n"
     ]
    }
   ],
   "source": [
    "# 3 - natrenovanie modelu Random Forest s defaultne nastavenymi parametrami \n",
    "\n",
    "X_data_selection = data_selection.drop('Accident_Severity', axis=1)\n",
    "X_data_selection.shape\n",
    "y_data_selection = data_selection['Accident_Severity']\n",
    "y_data_selection.shape\n",
    "\n",
    "X_train, X_test, y_train, y_test = train_test_split(X_data_selection, y_data_selection, test_size=0.3, random_state=1)\n",
    "\n",
    "from sklearn.ensemble import RandomForestClassifier\n",
    "from sklearn.metrics import accuracy_score\n",
    "from sklearn.metrics import confusion_matrix\n",
    "\n",
    "rf_default = RandomForestClassifier(n_estimators=500, max_depth=8)\n",
    "rf_default.fit(X_train, y_train)\n",
    "\n",
    "y_rf_default = rf_default.predict(X_test)\n",
    "\n",
    "print(f\"Úspešnosť(accuracy) rf_default: {accuracy_score(y_test, y_rf_default)}\")\n",
    "\n",
    "cm = confusion_matrix(y_test, y_rf_default)\n",
    "print(cm)"
   ]
  },
  {
   "cell_type": "code",
   "execution_count": 62,
   "metadata": {},
   "outputs": [
    {
     "name": "stdout",
     "output_type": "stream",
     "text": [
      "[0.57170846 0.57064472 0.57938064 0.5629165  0.56977656 0.5619365\n",
      " 0.56389651 0.56997256 0.57114857 0.56683653]\n"
     ]
    }
   ],
   "source": [
    "# 3 - 10-nasobna krizova validacia modelu Random Forest s defaultne nastavenymi parametrami \n",
    "from sklearn.model_selection import cross_validate          \n",
    "scoring = ['accuracy']                                      \n",
    "scores = cross_validate(rf_default, X_train, y_train, scoring=scoring, cv=10, return_train_score=False) \n",
    "                                        \n",
    "sorted(scores.keys()) \n",
    "print(scores['test_accuracy'])"
   ]
  },
  {
   "cell_type": "markdown",
   "metadata": {},
   "source": [
    "12. Porovnajte natrénované modely aj pomocou ROC krivky testovacej množine. Identifikujte model, ktorý dáva najlepšie výsledky s prednastavenými parametrami. \n",
    "V tomto kroku sa posnažte vyladiť model nájdením najvhodnejších parametrov pomocou `GridSearchCV`. Nájdite a vypíšte najlepšiu kombináciu parametrov. (4b)"
   ]
  },
  {
   "cell_type": "code",
   "execution_count": 138,
   "metadata": {},
   "outputs": [
    {
     "data": {
      "image/png": "[encoded data removed]",
      "text/plain": [
       "<Figure size 432x288 with 1 Axes>"
      ]
     },
     "metadata": {},
     "output_type": "display_data"
    }
   ],
   "source": [
    "# ROC krivka\n",
    "\n",
    "# 1 - kNN s defaultne nastavenymi parametrami \n",
    "y_knn_default = knn_default.predict(X_test)\n",
    "\n",
    "# 2 - rozhodovaci strom s defaultne nastavenymi parametrami \n",
    "y_dt_default = dt_default.predict(X_test)\n",
    "\n",
    "# 3 - Random Forest s defaultne nastavenymi parametrami \n",
    "y_rf_default=rf_default.predict(X_test)\n",
    "\n",
    "from sklearn.metrics import roc_curve,auc \n",
    "\n",
    "fpr_knn_default, tpr_knn_default, thresholds_knn_default = roc_curve(y_test, y_knn_default, pos_label=1) \n",
    "fpr_dt_default, tpr_dt_default, thresholds_dt_default = roc_curve(y_test, y_dt_default, pos_label=1) \n",
    "fpr_rf_default, tpr_rf_default, thresholds_rf_default = roc_curve(y_test, y_rf_default, pos_label=1)\n",
    "\n",
    "roc_auc_knn_default = auc(fpr_knn_default, tpr_knn_default) \n",
    "roc_auc_dt_default = auc(fpr_dt_default, tpr_dt_default)\n",
    "roc_auc_rf_default = auc(fpr_rf_default, tpr_rf_default)\n",
    "\n",
    "plt.title('ROC krivky (knn, dt a rf - default)')\n",
    "\n",
    "plt.plot(fpr_knn_default, tpr_knn_default, color='green', label = 'ROC krivka modelu knn_default (AUC = %0.2f)' % roc_auc_knn_default)\n",
    "plt.plot(fpr_dt_default, tpr_dt_default, color='blue', label = 'ROC krivka modelu dt_default (AUC = %0.2f)' % roc_auc_dt_default) \n",
    "plt.plot(fpr_rf_default, tpr_rf_default, color='black', label = 'ROC krivka modelu rf_default (AUC = %0.2f)' % roc_auc_rf_default)\n",
    "\n",
    "plt.legend(loc = 'upper left')\n",
    "plt.plot([0, 1], [0, 1],linestyle='--', color='red')\n",
    "plt.xlim([0, 1]) \n",
    "plt.ylim([0, 1]) \n",
    "plt.ylabel('True Positive Rate') \n",
    "plt.xlabel('False Positive Rate')\n",
    "plt.show()"
   ]
  },
  {
   "cell_type": "code",
   "execution_count": null,
   "metadata": {},
   "outputs": [],
   "source": [
    "# podla ROC kriviek ntrenovanych modelov s defaultne nastavenzmi parametrami je na tom najlepsie model Random Forets - potom rozhodovaci strom  a nakoniec knn"
   ]
  },
  {
   "cell_type": "code",
   "execution_count": null,
   "metadata": {},
   "outputs": [],
   "source": [
    "# teraz podla Gridsearch najdeme najlepsie parametre pre jednotlive modely"
   ]
  },
  {
   "cell_type": "code",
   "execution_count": 139,
   "metadata": {},
   "outputs": [
    {
     "name": "stdout",
     "output_type": "stream",
     "text": [
      "Najlepsie parametre:\n",
      "{'n_neighbors': 48}\n",
      "Hodnota presnosti modelu - accuracy - pre tieto parametre:\n",
      "0.5595711737843717\n"
     ]
    }
   ],
   "source": [
    "# 1 - modelovanie pomocou k-najblizsich susedov - knn - GridSearch - hladanie najlepsich parametrov\n",
    "X_data_selection = data_selection.drop('Accident_Severity', axis=1)\n",
    "X_data_selection.shape\n",
    "y_data_selection = data_selection['Accident_Severity']\n",
    "y_data_selection.shape\n",
    "\n",
    "X_train, X_test, y_train, y_test = train_test_split(X_data_selection, y_data_selection, test_size=0.3, random_state=1) \n",
    "\n",
    "from sklearn.neighbors import KNeighborsClassifier \n",
    "from sklearn.model_selection import GridSearchCV\n",
    "\n",
    "k_range = list(range(1, 50))\n",
    "param_grid_knn = dict(n_neighbors=k_range)\n",
    "\n",
    "knn = KNeighborsClassifier()\n",
    "grid_knn = GridSearchCV(estimator=knn, param_grid=param_grid_knn, cv=10, scoring='accuracy') \n",
    "grid_knn.fit(X_train, y_train)                  \n",
    "print(\"Najlepsie parametre:\")\n",
    "print(grid_knn.best_params_)\n",
    "print(\"Hodnota presnosti modelu - accuracy - pre tieto parametre:\")\n",
    "print(grid_knn.best_score_)"
   ]
  },
  {
   "cell_type": "code",
   "execution_count": 141,
   "metadata": {},
   "outputs": [
    {
     "name": "stdout",
     "output_type": "stream",
     "text": [
      "{'criterion': ['gini', 'entropy'], 'max_depth': [1, 2, 3, 4, 5, 6, 7, 8, 9, 10], 'min_samples_split': [2, 4, 8, 10], 'min_samples_leaf': [1, 5, 10, 15], 'presort': [True, False]}\n",
      "Najlepsia kombinacia parametrov:\n",
      "{'criterion': 'entropy', 'max_depth': 8, 'min_samples_leaf': 1, 'min_samples_split': 8, 'presort': True}\n",
      "\n",
      "Hodnota presnosti modelu pri tejto kombinacii:\n",
      "0.5680967406855731\n"
     ]
    }
   ],
   "source": [
    "# 2 - modelovanie pomocou rozhodovacieho stromu - dt - GridSearch - hladanie najlepsich parametrov\n",
    "\n",
    "X_data_selection = data_selection.drop('Accident_Severity', axis=1)\n",
    "X_data_selection.shape\n",
    "y_data_selection = data_selection['Accident_Severity']\n",
    "y_data_selection.shape\n",
    "\n",
    "X_train, X_test, y_train, y_test = train_test_split(X_data_selection, y_data_selection, test_size=0.3, random_state=1)\n",
    "\n",
    "from sklearn.metrics import accuracy_score, precision_score, recall_score\n",
    "from sklearn.tree import DecisionTreeClassifier\n",
    "from sklearn.metrics import confusion_matrix\n",
    "from sklearn.model_selection import GridSearchCV \n",
    "\n",
    "criterion_range = ['gini', 'entropy'] \n",
    "max_depth_range = [1, 2, 3, 4, 5, 6, 7, 8, 9, 10] \n",
    "min_samples_split_range = [2, 4, 8, 10] \n",
    "min_samples_leaf_range = [1, 5, 10, 15] \n",
    "presort_range = [True, False] \n",
    "\n",
    "param_grid = dict(criterion=criterion_range, max_depth=max_depth_range, min_samples_split = min_samples_split_range, min_samples_leaf = min_samples_leaf_range, presort = presort_range)\n",
    "print(param_grid)\n",
    "\n",
    "dt = DecisionTreeClassifier()\n",
    "grid_dt = GridSearchCV(estimator=dt, param_grid=param_grid, cv=10, scoring='accuracy')  \n",
    "grid_dt.fit(X_train, y_train) \n",
    "\n",
    "print(\"Najlepsia kombinacia parametrov:\")\n",
    "print(grid_dt.best_params_)\n",
    "print()\n",
    "print(\"Hodnota presnosti modelu pri tejto kombinacii:\")\n",
    "print(grid_dt.best_score_)\n"
   ]
  },
  {
   "cell_type": "code",
   "execution_count": null,
   "metadata": {},
   "outputs": [],
   "source": [
    "#  hlbka 8 predstavuje najlepsiu kvalitu modelu ....8 je asi velmi vela"
   ]
  },
  {
   "cell_type": "code",
   "execution_count": 142,
   "metadata": {},
   "outputs": [
    {
     "data": {
      "text/plain": [
       "RandomForestClassifier(bootstrap=True, class_weight=None, criterion='gini',\n",
       "                       max_depth=8, max_features='auto', max_leaf_nodes=None,\n",
       "                       min_impurity_decrease=0.0, min_impurity_split=None,\n",
       "                       min_samples_leaf=1, min_samples_split=2,\n",
       "                       min_weight_fraction_leaf=0.0, n_estimators=1000,\n",
       "                       n_jobs=None, oob_score=False, random_state=None,\n",
       "                       verbose=0, warm_start=False)"
      ]
     },
     "execution_count": 142,
     "metadata": {},
     "output_type": "execute_result"
    }
   ],
   "source": [
    "# 3 - modelovanie - Random Forest - rf - GridSearch - hladanie najlepsich parametrov \n",
    "\n",
    "X_data_selection = data_selection.drop('Accident_Severity', axis=1)\n",
    "X_data_selection.shape\n",
    "y_data_selection = data_selection['Accident_Severity']\n",
    "y_data_selection.shape\n",
    "\n",
    "X_train, X_test, y_train, y_test = train_test_split(X_data_selection, y_data_selection, test_size=0.3, random_state=1)\n",
    "\n",
    "from sklearn.ensemble import RandomForestClassifier\n",
    "from sklearn.metrics import accuracy_score, confusion_matrix\n",
    "\n",
    "rf = RandomForestClassifier(n_estimators=1000, max_depth=8)  # 100 nahodnych stromov, maximalna hlbka vetvenia je 8 .... z modelovanie rozhodovacieho stromu\n",
    "rf.fit(X_train, y_train)"
   ]
  },
  {
   "cell_type": "code",
   "execution_count": 143,
   "metadata": {},
   "outputs": [
    {
     "data": {
      "text/plain": [
       "[(0.1774576711589829, 'Vehicle_Type_2'),\n",
       " (0.1629109638052695, 'Urban_or_Rural_Area'),\n",
       " (0.10634707112163246, 'Vehicle_Type_9'),\n",
       " (0.0724666467446521, 'Light_Conditions_6'),\n",
       " (0.056556770788671835, 'Road_Type_1'),\n",
       " (0.05246638849841448, 'Sex_of_Driver'),\n",
       " (0.052331560226259705, 'Road_Type_6'),\n",
       " (0.04872614933089984, 'Light_Conditions_1'),\n",
       " (0.04288975048344639, 'Day_of_Week'),\n",
       " (0.041421725475238085, 'Age_of_Driver_Ordinal'),\n",
       " (0.024251575875590035, 'Light_Conditions_4'),\n",
       " (0.019568532529385486, 'Road_Type_3'),\n",
       " (0.018217098291205682, 'Weather_Conditions_1'),\n",
       " (0.01780612604248245, 'Vehicle_Type_21'),\n",
       " (0.013786071280158699, 'Vehicle_Type_1'),\n",
       " (0.011917958116789343, 'Weather_Conditions_2'),\n",
       " (0.010142580192440893, 'Road_Surface_Conditions_2'),\n",
       " (0.009888209998104176, 'Road_Surface_Conditions_1'),\n",
       " (0.007809080245226195, 'Vehicle_Type_11'),\n",
       " (0.007400068281325075, 'Road_Type_7'),\n",
       " (0.006295024926021612, 'Weather_Conditions_8'),\n",
       " (0.005742351914140199, 'Road_Surface_Conditions_4'),\n",
       " (0.005508824044350186, 'Weather_Conditions_4'),\n",
       " (0.004681069142706344, 'Weather_Conditions_7'),\n",
       " (0.004529157498490217, 'Weather_Conditions_3'),\n",
       " (0.003961850303364989, 'Road_Type_2'),\n",
       " (0.003530589630421489, 'Weather_Conditions_5'),\n",
       " (0.0029023277021373727, 'Light_Conditions_5'),\n",
       " (0.0026743857260543022, 'Road_Surface_Conditions_3'),\n",
       " (0.0020923648258814663, 'Weather_Conditions_6'),\n",
       " (0.001822255649783131, 'Road_Surface_Conditions_5'),\n",
       " (0.0014050860068410863, 'Vehicle_Type_17'),\n",
       " (0.0004927141436324602, 'Vehicle_Type_16')]"
      ]
     },
     "execution_count": 143,
     "metadata": {},
     "output_type": "execute_result"
    }
   ],
   "source": [
    "# dolezitost jednotlivych atributov z modelovania Random Forest\n",
    "sorted(zip(rf.feature_importances_, X_train.columns), reverse=True)"
   ]
  },
  {
   "cell_type": "code",
   "execution_count": null,
   "metadata": {},
   "outputs": [],
   "source": [
    "# Vehicle_Type 2 je - Motorcycle  9 je car\n",
    "# Light Conditions 6 - Darkness - no lighting"
   ]
  },
  {
   "cell_type": "markdown",
   "metadata": {},
   "source": [
    "13. Natrénujte na celej trénovacej množine model s najlepšími parametrami. Model otestujte na testovacej množine. Vyhodnoťte model pomocou metrík `accuracy`, `precision` a `recall`. Vypíšte preň `confusion matrix`. (3b)"
   ]
  },
  {
   "cell_type": "code",
   "execution_count": 153,
   "metadata": {},
   "outputs": [],
   "source": [
    "from sklearn.metrics import confusion_matrix\n",
    "from sklearn.metrics import accuracy_score, precision_score, recall_score"
   ]
  },
  {
   "cell_type": "code",
   "execution_count": 155,
   "metadata": {},
   "outputs": [
    {
     "name": "stdout",
     "output_type": "stream",
     "text": [
      "knn model:\n",
      "Úspešnosť(accuracy) modelu: 0.5639747576367294\n",
      "Confusion matrix:\n",
      "[[   2 1243  203]\n",
      " [   2 8911 2840]\n",
      " [   1 5279 3387]]\n"
     ]
    }
   ],
   "source": [
    "\n",
    "# 1 - knn - otestovanie najlepsieho k (k = 48)\n",
    "knn = KNeighborsClassifier(n_neighbors=48)\n",
    "knn.fit(X_train, y_train) \n",
    "\n",
    "y_knn = knn.predict(X_test) \n",
    "\n",
    "print(\"knn model:\")\n",
    "print(f\"Úspešnosť(accuracy) modelu: {accuracy_score(y_test, y_dt)}\")\n",
    "\n",
    "print(\"Confusion matrix:\")\n",
    "cm = confusion_matrix(y_test, y_knn) \n",
    "print(cm)"
   ]
  },
  {
   "cell_type": "code",
   "execution_count": 156,
   "metadata": {},
   "outputs": [
    {
     "name": "stdout",
     "output_type": "stream",
     "text": [
      "Decision Tree model:\n",
      "Úspešnosť(accuracy) modelu: 0.5639747576367294\n",
      "Confusion matrix:\n",
      "[[   2 1269  177]\n",
      " [   3 8661 3089]\n",
      " [   3 4994 3670]]\n"
     ]
    }
   ],
   "source": [
    "# 2 - dtn - otestovanie najlepsieho k (k = 48)\n",
    "\n",
    "dt = DecisionTreeClassifier(max_depth=8,criterion= 'entropy',min_samples_leaf= 1, min_samples_split= 8, presort= True)   \n",
    "dt.fit(X_train, y_train)       \n",
    "y_dt = dt.predict(X_test)\n",
    "\n",
    "print(\"Decision Tree model:\")\n",
    "print(f\"Úspešnosť(accuracy) modelu: {accuracy_score(y_test, y_dt)}\")\n",
    "print(\"Confusion matrix:\")\n",
    "cm = confusion_matrix(y_test, y_dt)  \n",
    "print(cm)"
   ]
  },
  {
   "cell_type": "code",
   "execution_count": 157,
   "metadata": {},
   "outputs": [
    {
     "name": "stdout",
     "output_type": "stream",
     "text": [
      "Random Forest:\n",
      "Úspešnosť(accuracy): 0.5659411011523687\n",
      "Confusion matrix:\n",
      "[[   0 1347  101]\n",
      " [   0 9922 1831]\n",
      " [   0 6213 2454]]\n"
     ]
    }
   ],
   "source": [
    "3# - Random Forest\n",
    "\n",
    "y_rf = rf.predict(X_test)\n",
    "\n",
    "print(\"Random Forest:\")\n",
    "print(f\"Úspešnosť(accuracy): {accuracy_score(y_test, y_rf)}\")\n",
    "print(\"Confusion matrix:\")\n",
    "cm = confusion_matrix(y_test, y_rf)\n",
    "print(cm)"
   ]
  },
  {
   "cell_type": "code",
   "execution_count": null,
   "metadata": {},
   "outputs": [],
   "source": [
    "# najvyssia hodnota accuracy pri modelovani na tri sposoby bola pomocou metody Random Forest, aj ked by sa dalo povedat, ze vysledne presnosti vsetkych troch modelov su porovnatelne\n",
    "# mozno by stacilo vynechat niektore atributy - ktore sa ukazuju ako najmenej zavazne/najslabsie napr. podla ulohy 10 a znova modelovat\n",
    "\n",
    "# este urobime ROC krivky pre najdene najlepsie parametre modelovania"
   ]
  },
  {
   "cell_type": "code",
   "execution_count": 151,
   "metadata": {},
   "outputs": [
    {
     "data": {
      "image/png": "[encoded data removed]",
      "text/plain": [
       "<Figure size 432x288 with 1 Axes>"
      ]
     },
     "metadata": {},
     "output_type": "display_data"
    }
   ],
   "source": [
    "# ROC krivka modelovania s najlepsim parametrom\n",
    "\n",
    "# 1 kNN model (s najlepsim parametrom)\n",
    "knn = KNeighborsClassifier(n_neighbors=48)\n",
    "knn.fit(X_train, y_train)\n",
    "y_knn = knn.predict(X_test)\n",
    "\n",
    "# 2 rozhodovaci strom model - najlepsie parametre\n",
    "dt = DecisionTreeClassifier(max_depth=8,criterion= 'entropy',min_samples_leaf= 1, min_samples_split= 8, presort= True)   \n",
    "dt.fit(X_train, y_train)       \n",
    "y_dt = dt.predict(X_test)\n",
    "\n",
    "# 3 Random Forest model\n",
    "y_rf = rf.predict(X_test)\n",
    "\n",
    "from sklearn.metrics import roc_curve,auc \n",
    "\n",
    "fpr_knn, tpr_knn, thresholds_knn = roc_curve(y_test, y_knn, pos_label=1) \n",
    "fpr_dt, tpr_dt, thresholds_dt = roc_curve(y_test, y_dt, pos_label=1) \n",
    "fpr_rf, tpr_rf, thresholds_rf = roc_curve(y_test, y_rf, pos_label=1)\n",
    "\n",
    "roc_auc_knn = auc(fpr_knn, tpr_knn) \n",
    "roc_auc_dt = auc(fpr_dt, tpr_dt)\n",
    "roc_auc_rf = auc(fpr_rf, tpr_rf)\n",
    "\n",
    "plt.title('ROC krivky (knn, dt, rf)')\n",
    "\n",
    "plt.plot(fpr_dt, tpr_dt, color='blue', label = 'ROC krivka modelu dt (AUC = %0.2f)' % roc_auc_dt) \n",
    "plt.plot(fpr_knn, tpr_knn, color='green', label = 'ROC krivka modelu knn (AUC = %0.2f)' % roc_auc_knn) \n",
    "plt.plot(fpr_rf, tpr_rf, color='black', label = 'ROC krivka modelu rf (AUC = %0.2f)' % roc_auc_rf)\n",
    "\n",
    "plt.legend(loc = 'upper left')\n",
    "plt.plot([0, 1], [0, 1],linestyle='--', color='red')\n",
    "plt.xlim([0, 1]) \n",
    "plt.ylim([0, 1]) \n",
    "plt.ylabel('True Positive Rate') \n",
    "plt.xlabel('False Positive Rate')\n",
    "plt.show()"
   ]
  },
  {
   "cell_type": "code",
   "execution_count": null,
   "metadata": {},
   "outputs": [],
   "source": [
    "# aj podla ROC kriviek je na tom najlepsie random forest... ma najvyssie AUC 0.43"
   ]
  },
  {
   "cell_type": "code",
   "execution_count": null,
   "metadata": {},
   "outputs": [],
   "source": [
    "# to je vsetko\n",
    "#chybaju vysledky precission a recall ..... ale stale vyhadzovalo nejaku chybu, ktorej som neroumela - \"Target is multiclass but average='binary'. Please choose another average setting, one of [None, 'micro', 'macro', 'weighted']\""
   ]
  }
 ],
 "metadata": {
  "kernelspec": {
   "display_name": "Python 3",
   "language": "python",
   "name": "python3"
  },
  "language_info": {
   "codemirror_mode": {
    "name": "ipython",
    "version": 3
   },
   "file_extension": ".py",
   "mimetype": "text/x-python",
   "name": "python",
   "nbconvert_exporter": "python",
   "pygments_lexer": "ipython3",
   "version": "3.7.4"
  }
 },
 "nbformat": 4,
 "nbformat_minor": 4
}
